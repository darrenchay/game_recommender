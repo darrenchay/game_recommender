{
 "cells": [
  {
   "cell_type": "code",
   "execution_count": 28,
   "metadata": {},
   "outputs": [],
   "source": [
    "import numpy as np\n",
    "import pandas as pd\n",
    "import seaborn as sns\n",
    "import matplotlib.pyplot as plt"
   ]
  },
  {
   "cell_type": "code",
   "execution_count": 29,
   "metadata": {
    "scrolled": true
   },
   "outputs": [
    {
     "data": {
      "text/html": [
       "<div>\n",
       "<style scoped>\n",
       "    .dataframe tbody tr th:only-of-type {\n",
       "        vertical-align: middle;\n",
       "    }\n",
       "\n",
       "    .dataframe tbody tr th {\n",
       "        vertical-align: top;\n",
       "    }\n",
       "\n",
       "    .dataframe thead th {\n",
       "        text-align: right;\n",
       "    }\n",
       "</style>\n",
       "<table border=\"1\" class=\"dataframe\">\n",
       "  <thead>\n",
       "    <tr style=\"text-align: right;\">\n",
       "      <th></th>\n",
       "      <th>app_name</th>\n",
       "      <th>review_text</th>\n",
       "      <th>review_score</th>\n",
       "      <th>review_votes</th>\n",
       "    </tr>\n",
       "  </thead>\n",
       "  <tbody>\n",
       "    <tr>\n",
       "      <th>0</th>\n",
       "      <td>Counter-Strike</td>\n",
       "      <td>Ruined my life.</td>\n",
       "      <td>1</td>\n",
       "      <td>0</td>\n",
       "    </tr>\n",
       "    <tr>\n",
       "      <th>1</th>\n",
       "      <td>Counter-Strike</td>\n",
       "      <td>This will be more of a ''my experience with th...</td>\n",
       "      <td>1</td>\n",
       "      <td>1</td>\n",
       "    </tr>\n",
       "    <tr>\n",
       "      <th>2</th>\n",
       "      <td>Counter-Strike</td>\n",
       "      <td>This game saved my virginity.</td>\n",
       "      <td>1</td>\n",
       "      <td>0</td>\n",
       "    </tr>\n",
       "    <tr>\n",
       "      <th>3</th>\n",
       "      <td>Counter-Strike</td>\n",
       "      <td>• Do you like original games? • Do you like ga...</td>\n",
       "      <td>1</td>\n",
       "      <td>0</td>\n",
       "    </tr>\n",
       "    <tr>\n",
       "      <th>4</th>\n",
       "      <td>Counter-Strike</td>\n",
       "      <td>Easy to learn, hard to master.</td>\n",
       "      <td>1</td>\n",
       "      <td>1</td>\n",
       "    </tr>\n",
       "  </tbody>\n",
       "</table>\n",
       "</div>"
      ],
      "text/plain": [
       "         app_name                                        review_text  \\\n",
       "0  Counter-Strike                                    Ruined my life.   \n",
       "1  Counter-Strike  This will be more of a ''my experience with th...   \n",
       "2  Counter-Strike                      This game saved my virginity.   \n",
       "3  Counter-Strike  • Do you like original games? • Do you like ga...   \n",
       "4  Counter-Strike           Easy to learn, hard to master.             \n",
       "\n",
       "   review_score  review_votes  \n",
       "0             1             0  \n",
       "1             1             1  \n",
       "2             1             0  \n",
       "3             1             0  \n",
       "4             1             1  "
      ]
     },
     "execution_count": 29,
     "metadata": {},
     "output_type": "execute_result"
    }
   ],
   "source": [
    "reviews = pd.read_csv('Datasets/reviews.csv')\n",
    "reviews.drop('app_id', axis=1, inplace=True)\n",
    "reviews.head()"
   ]
  },
  {
   "cell_type": "code",
   "execution_count": 30,
   "metadata": {},
   "outputs": [
    {
     "data": {
      "text/html": [
       "<div>\n",
       "<style scoped>\n",
       "    .dataframe tbody tr th:only-of-type {\n",
       "        vertical-align: middle;\n",
       "    }\n",
       "\n",
       "    .dataframe tbody tr th {\n",
       "        vertical-align: top;\n",
       "    }\n",
       "\n",
       "    .dataframe thead th {\n",
       "        text-align: right;\n",
       "    }\n",
       "</style>\n",
       "<table border=\"1\" class=\"dataframe\">\n",
       "  <thead>\n",
       "    <tr style=\"text-align: right;\">\n",
       "      <th></th>\n",
       "      <th>app_name</th>\n",
       "      <th>review_text</th>\n",
       "      <th>review_score</th>\n",
       "      <th>review_votes</th>\n",
       "    </tr>\n",
       "  </thead>\n",
       "  <tbody>\n",
       "    <tr>\n",
       "      <th>5007461</th>\n",
       "      <td>Fallout</td>\n",
       "      <td>An amazing game that has aged very well.</td>\n",
       "      <td>1</td>\n",
       "      <td>0</td>\n",
       "    </tr>\n",
       "    <tr>\n",
       "      <th>292600</th>\n",
       "      <td>NaN</td>\n",
       "      <td>I originally played this on the PS2 when I was...</td>\n",
       "      <td>1</td>\n",
       "      <td>0</td>\n",
       "    </tr>\n",
       "    <tr>\n",
       "      <th>5645508</th>\n",
       "      <td>Rock Paper Scissors Champion</td>\n",
       "      <td>It s a nice game  With a multiplayermode would...</td>\n",
       "      <td>1</td>\n",
       "      <td>1</td>\n",
       "    </tr>\n",
       "    <tr>\n",
       "      <th>981655</th>\n",
       "      <td>South Park™: The Stick of Truth™</td>\n",
       "      <td>Played it Made my character ♥♥♥♥ in toilet Pic...</td>\n",
       "      <td>1</td>\n",
       "      <td>0</td>\n",
       "    </tr>\n",
       "    <tr>\n",
       "      <th>639705</th>\n",
       "      <td>Dishonored</td>\n",
       "      <td>It's fun because you can choose to be stealthy...</td>\n",
       "      <td>1</td>\n",
       "      <td>0</td>\n",
       "    </tr>\n",
       "    <tr>\n",
       "      <th>3981810</th>\n",
       "      <td>Call of Duty: Black Ops III</td>\n",
       "      <td>LONG story....very short Bo2 &amp;gt; Bo3  Anythin...</td>\n",
       "      <td>1</td>\n",
       "      <td>0</td>\n",
       "    </tr>\n",
       "    <tr>\n",
       "      <th>2464054</th>\n",
       "      <td>Space Engineers</td>\n",
       "      <td>Early Access Review</td>\n",
       "      <td>1</td>\n",
       "      <td>0</td>\n",
       "    </tr>\n",
       "    <tr>\n",
       "      <th>636572</th>\n",
       "      <td>Dishonored</td>\n",
       "      <td>Very fun and worth every penny!</td>\n",
       "      <td>1</td>\n",
       "      <td>0</td>\n",
       "    </tr>\n",
       "    <tr>\n",
       "      <th>1867026</th>\n",
       "      <td>Killing Floor 2</td>\n",
       "      <td>Early Access Review</td>\n",
       "      <td>1</td>\n",
       "      <td>1</td>\n",
       "    </tr>\n",
       "    <tr>\n",
       "      <th>5739161</th>\n",
       "      <td>Dragon Age: Origins - Ultimate Edition</td>\n",
       "      <td>Great game 10/10 would play again.</td>\n",
       "      <td>1</td>\n",
       "      <td>0</td>\n",
       "    </tr>\n",
       "  </tbody>\n",
       "</table>\n",
       "</div>"
      ],
      "text/plain": [
       "                                       app_name  \\\n",
       "5007461                                 Fallout   \n",
       "292600                                      NaN   \n",
       "5645508            Rock Paper Scissors Champion   \n",
       "981655         South Park™: The Stick of Truth™   \n",
       "639705                               Dishonored   \n",
       "3981810             Call of Duty: Black Ops III   \n",
       "2464054                         Space Engineers   \n",
       "636572                               Dishonored   \n",
       "1867026                         Killing Floor 2   \n",
       "5739161  Dragon Age: Origins - Ultimate Edition   \n",
       "\n",
       "                                               review_text  review_score  \\\n",
       "5007461           An amazing game that has aged very well.             1   \n",
       "292600   I originally played this on the PS2 when I was...             1   \n",
       "5645508  It s a nice game  With a multiplayermode would...             1   \n",
       "981655   Played it Made my character ♥♥♥♥ in toilet Pic...             1   \n",
       "639705   It's fun because you can choose to be stealthy...             1   \n",
       "3981810  LONG story....very short Bo2 &gt; Bo3  Anythin...             1   \n",
       "2464054                                Early Access Review             1   \n",
       "636572                     Very fun and worth every penny!             1   \n",
       "1867026                                Early Access Review             1   \n",
       "5739161                 Great game 10/10 would play again.             1   \n",
       "\n",
       "         review_votes  \n",
       "5007461             0  \n",
       "292600              0  \n",
       "5645508             1  \n",
       "981655              0  \n",
       "639705              0  \n",
       "3981810             0  \n",
       "2464054             0  \n",
       "636572              0  \n",
       "1867026             1  \n",
       "5739161             0  "
      ]
     },
     "execution_count": 30,
     "metadata": {},
     "output_type": "execute_result"
    }
   ],
   "source": [
    "reviews.sample(10)"
   ]
  },
  {
   "cell_type": "code",
   "execution_count": 31,
   "metadata": {},
   "outputs": [
    {
     "data": {
      "text/html": [
       "<div>\n",
       "<style scoped>\n",
       "    .dataframe tbody tr th:only-of-type {\n",
       "        vertical-align: middle;\n",
       "    }\n",
       "\n",
       "    .dataframe tbody tr th {\n",
       "        vertical-align: top;\n",
       "    }\n",
       "\n",
       "    .dataframe thead th {\n",
       "        text-align: right;\n",
       "    }\n",
       "</style>\n",
       "<table border=\"1\" class=\"dataframe\">\n",
       "  <thead>\n",
       "    <tr style=\"text-align: right;\">\n",
       "      <th></th>\n",
       "      <th>review_score</th>\n",
       "      <th>review_votes</th>\n",
       "    </tr>\n",
       "  </thead>\n",
       "  <tbody>\n",
       "    <tr>\n",
       "      <th>count</th>\n",
       "      <td>6.417106e+06</td>\n",
       "      <td>6.417106e+06</td>\n",
       "    </tr>\n",
       "    <tr>\n",
       "      <th>mean</th>\n",
       "      <td>6.394992e-01</td>\n",
       "      <td>1.472446e-01</td>\n",
       "    </tr>\n",
       "    <tr>\n",
       "      <th>std</th>\n",
       "      <td>7.687918e-01</td>\n",
       "      <td>3.543496e-01</td>\n",
       "    </tr>\n",
       "    <tr>\n",
       "      <th>min</th>\n",
       "      <td>-1.000000e+00</td>\n",
       "      <td>0.000000e+00</td>\n",
       "    </tr>\n",
       "    <tr>\n",
       "      <th>25%</th>\n",
       "      <td>1.000000e+00</td>\n",
       "      <td>0.000000e+00</td>\n",
       "    </tr>\n",
       "    <tr>\n",
       "      <th>50%</th>\n",
       "      <td>1.000000e+00</td>\n",
       "      <td>0.000000e+00</td>\n",
       "    </tr>\n",
       "    <tr>\n",
       "      <th>75%</th>\n",
       "      <td>1.000000e+00</td>\n",
       "      <td>0.000000e+00</td>\n",
       "    </tr>\n",
       "    <tr>\n",
       "      <th>max</th>\n",
       "      <td>1.000000e+00</td>\n",
       "      <td>1.000000e+00</td>\n",
       "    </tr>\n",
       "  </tbody>\n",
       "</table>\n",
       "</div>"
      ],
      "text/plain": [
       "       review_score  review_votes\n",
       "count  6.417106e+06  6.417106e+06\n",
       "mean   6.394992e-01  1.472446e-01\n",
       "std    7.687918e-01  3.543496e-01\n",
       "min   -1.000000e+00  0.000000e+00\n",
       "25%    1.000000e+00  0.000000e+00\n",
       "50%    1.000000e+00  0.000000e+00\n",
       "75%    1.000000e+00  0.000000e+00\n",
       "max    1.000000e+00  1.000000e+00"
      ]
     },
     "execution_count": 31,
     "metadata": {},
     "output_type": "execute_result"
    }
   ],
   "source": [
    "reviews.describe()"
   ]
  },
  {
   "cell_type": "code",
   "execution_count": 32,
   "metadata": {},
   "outputs": [
    {
     "data": {
      "text/plain": [
       "app_name        183234\n",
       "review_text       7305\n",
       "review_score         0\n",
       "review_votes         0\n",
       "dtype: int64"
      ]
     },
     "execution_count": 32,
     "metadata": {},
     "output_type": "execute_result"
    }
   ],
   "source": [
    "reviews.isnull().sum()"
   ]
  },
  {
   "cell_type": "code",
   "execution_count": 44,
   "metadata": {},
   "outputs": [
    {
     "data": {
      "text/plain": [
       "app_name        0\n",
       "review_text     0\n",
       "review_score    0\n",
       "review_votes    0\n",
       "dtype: int64"
      ]
     },
     "execution_count": 44,
     "metadata": {},
     "output_type": "execute_result"
    }
   ],
   "source": [
    "reviews = reviews.dropna()\n",
    "reviews.isnull().sum()"
   ]
  },
  {
   "cell_type": "code",
   "execution_count": 45,
   "metadata": {},
   "outputs": [
    {
     "name": "stdout",
     "output_type": "stream",
     "text": [
      " 1    5260420\n",
      "-1    1156686\n",
      "Name: review_score, dtype: int64\n",
      "\n",
      "0    5472222\n",
      "1     944884\n",
      "Name: review_votes, dtype: int64\n"
     ]
    }
   ],
   "source": [
    "print(reviews['review_score'].value_counts())\n",
    "print()\n",
    "print(reviews['review_votes'].value_counts())"
   ]
  },
  {
   "cell_type": "markdown",
   "metadata": {},
   "source": [
    "### Weighted review score\n",
    "In order to give a proper score for each game, it would not be appropriate to just calculate the average (since in the case where an average of 1.0 across 1 review is against an average of 0.95 across 100 reviews, the latter would be considered better). Therefore an appropriate formula need to be chosen to calculate this. This [blog post](https://steamdb.info/blog/steamdb-rating/) gives a solution to this."
   ]
  },
  {
   "cell_type": "code",
   "execution_count": 46,
   "metadata": {
    "scrolled": false
   },
   "outputs": [],
   "source": [
    "positive_reviews = reviews[reviews['review_score']==1].groupby('app_name').count()"
   ]
  },
  {
   "cell_type": "code",
   "execution_count": 47,
   "metadata": {},
   "outputs": [
    {
     "data": {
      "text/html": [
       "<div>\n",
       "<style scoped>\n",
       "    .dataframe tbody tr th:only-of-type {\n",
       "        vertical-align: middle;\n",
       "    }\n",
       "\n",
       "    .dataframe tbody tr th {\n",
       "        vertical-align: top;\n",
       "    }\n",
       "\n",
       "    .dataframe thead th {\n",
       "        text-align: right;\n",
       "    }\n",
       "</style>\n",
       "<table border=\"1\" class=\"dataframe\">\n",
       "  <thead>\n",
       "    <tr style=\"text-align: right;\">\n",
       "      <th></th>\n",
       "      <th>count</th>\n",
       "      <th>mean</th>\n",
       "      <th>positive_rate</th>\n",
       "    </tr>\n",
       "    <tr>\n",
       "      <th>app_name</th>\n",
       "      <th></th>\n",
       "      <th></th>\n",
       "      <th></th>\n",
       "    </tr>\n",
       "  </thead>\n",
       "  <tbody>\n",
       "    <tr>\n",
       "      <th>JDM Tuner Racing</th>\n",
       "      <td>76</td>\n",
       "      <td>-0.263158</td>\n",
       "      <td>0.368421</td>\n",
       "    </tr>\n",
       "    <tr>\n",
       "      <th>Vector Strain</th>\n",
       "      <td>18</td>\n",
       "      <td>0.777778</td>\n",
       "      <td>0.888889</td>\n",
       "    </tr>\n",
       "    <tr>\n",
       "      <th>Mashed</th>\n",
       "      <td>95</td>\n",
       "      <td>0.515789</td>\n",
       "      <td>0.757895</td>\n",
       "    </tr>\n",
       "    <tr>\n",
       "      <th>Super Goo Goo</th>\n",
       "      <td>6</td>\n",
       "      <td>0.333333</td>\n",
       "      <td>0.666667</td>\n",
       "    </tr>\n",
       "    <tr>\n",
       "      <th>Candle</th>\n",
       "      <td>29</td>\n",
       "      <td>1.000000</td>\n",
       "      <td>1.000000</td>\n",
       "    </tr>\n",
       "  </tbody>\n",
       "</table>\n",
       "</div>"
      ],
      "text/plain": [
       "                  count      mean  positive_rate\n",
       "app_name                                        \n",
       "JDM Tuner Racing     76 -0.263158       0.368421\n",
       "Vector Strain        18  0.777778       0.888889\n",
       "Mashed               95  0.515789       0.757895\n",
       "Super Goo Goo         6  0.333333       0.666667\n",
       "Candle               29  1.000000       1.000000"
      ]
     },
     "execution_count": 47,
     "metadata": {},
     "output_type": "execute_result"
    }
   ],
   "source": [
    "# count and mean of review_score_and_votes grouped by game\n",
    "reviews_by_group = reviews.groupby(reviews[\"app_name\"]).review_score.agg([\"count\",\"mean\"])\n",
    "positive_reviews = reviews[reviews['review_score']==1].groupby('app_name').count()['review_score']\n",
    "reviews_by_group['positive_rate'] = positive_reviews/reviews_by_group['count']\n",
    "reviews_by_group.sample(5)"
   ]
  },
  {
   "cell_type": "code",
   "execution_count": 48,
   "metadata": {},
   "outputs": [
    {
     "data": {
      "text/html": [
       "<div>\n",
       "<style scoped>\n",
       "    .dataframe tbody tr th:only-of-type {\n",
       "        vertical-align: middle;\n",
       "    }\n",
       "\n",
       "    .dataframe tbody tr th {\n",
       "        vertical-align: top;\n",
       "    }\n",
       "\n",
       "    .dataframe thead th {\n",
       "        text-align: right;\n",
       "    }\n",
       "</style>\n",
       "<table border=\"1\" class=\"dataframe\">\n",
       "  <thead>\n",
       "    <tr style=\"text-align: right;\">\n",
       "      <th></th>\n",
       "      <th>count</th>\n",
       "      <th>mean</th>\n",
       "      <th>positive_rate</th>\n",
       "      <th>weighted_score</th>\n",
       "    </tr>\n",
       "    <tr>\n",
       "      <th>app_name</th>\n",
       "      <th></th>\n",
       "      <th></th>\n",
       "      <th></th>\n",
       "      <th></th>\n",
       "    </tr>\n",
       "  </thead>\n",
       "  <tbody>\n",
       "    <tr>\n",
       "      <th>At the Mountains of Madness</th>\n",
       "      <td>26</td>\n",
       "      <td>-0.384615</td>\n",
       "      <td>0.307692</td>\n",
       "      <td>0.378996</td>\n",
       "    </tr>\n",
       "    <tr>\n",
       "      <th>Putt-Putt Enters the Race</th>\n",
       "      <td>36</td>\n",
       "      <td>0.944444</td>\n",
       "      <td>0.972222</td>\n",
       "      <td>0.812975</td>\n",
       "    </tr>\n",
       "    <tr>\n",
       "      <th>GT Legends</th>\n",
       "      <td>92</td>\n",
       "      <td>0.782609</td>\n",
       "      <td>0.891304</td>\n",
       "      <td>0.791318</td>\n",
       "    </tr>\n",
       "    <tr>\n",
       "      <th>One Finger Death Punch</th>\n",
       "      <td>7737</td>\n",
       "      <td>0.971565</td>\n",
       "      <td>0.985783</td>\n",
       "      <td>0.952985</td>\n",
       "    </tr>\n",
       "    <tr>\n",
       "      <th>Tulpa</th>\n",
       "      <td>85</td>\n",
       "      <td>-0.176471</td>\n",
       "      <td>0.411765</td>\n",
       "      <td>0.434848</td>\n",
       "    </tr>\n",
       "  </tbody>\n",
       "</table>\n",
       "</div>"
      ],
      "text/plain": [
       "                             count      mean  positive_rate  weighted_score\n",
       "app_name                                                                   \n",
       "At the Mountains of Madness     26 -0.384615       0.307692        0.378996\n",
       "Putt-Putt Enters the Race       36  0.944444       0.972222        0.812975\n",
       "GT Legends                      92  0.782609       0.891304        0.791318\n",
       "One Finger Death Punch        7737  0.971565       0.985783        0.952985\n",
       "Tulpa                           85 -0.176471       0.411765        0.434848"
      ]
     },
     "execution_count": 48,
     "metadata": {},
     "output_type": "execute_result"
    }
   ],
   "source": [
    "import math \n",
    "\n",
    "def calc_weighted_score(rate, total):\n",
    "    return rate - (rate - 0.5) * math.pow(2, -math.log10(total+1))\n",
    "\n",
    "weighted_score = []\n",
    "for r, t in zip(reviews_by_group['positive_rate'], reviews_by_group['count']):\n",
    "    weighted_score.append(calc_weighted_score(r, t))\n",
    "reviews_by_group['weighted_score'] = weighted_score\n",
    "reviews_by_group.sample(5)"
   ]
  },
  {
   "cell_type": "markdown",
   "metadata": {},
   "source": [
    "### Analyzing new features"
   ]
  },
  {
   "cell_type": "code",
   "execution_count": 49,
   "metadata": {},
   "outputs": [
    {
     "data": {
      "text/html": [
       "<div>\n",
       "<style scoped>\n",
       "    .dataframe tbody tr th:only-of-type {\n",
       "        vertical-align: middle;\n",
       "    }\n",
       "\n",
       "    .dataframe tbody tr th {\n",
       "        vertical-align: top;\n",
       "    }\n",
       "\n",
       "    .dataframe thead th {\n",
       "        text-align: right;\n",
       "    }\n",
       "</style>\n",
       "<table border=\"1\" class=\"dataframe\">\n",
       "  <thead>\n",
       "    <tr style=\"text-align: right;\">\n",
       "      <th></th>\n",
       "      <th>count</th>\n",
       "      <th>mean</th>\n",
       "      <th>positive_rate</th>\n",
       "      <th>weighted_score</th>\n",
       "    </tr>\n",
       "    <tr>\n",
       "      <th>app_name</th>\n",
       "      <th></th>\n",
       "      <th></th>\n",
       "      <th></th>\n",
       "      <th></th>\n",
       "    </tr>\n",
       "  </thead>\n",
       "  <tbody>\n",
       "    <tr>\n",
       "      <th>Portal 2</th>\n",
       "      <td>38924</td>\n",
       "      <td>0.975542</td>\n",
       "      <td>0.987771</td>\n",
       "      <td>0.967521</td>\n",
       "    </tr>\n",
       "    <tr>\n",
       "      <th>Sid Meier's Civilization V</th>\n",
       "      <td>8693</td>\n",
       "      <td>0.999310</td>\n",
       "      <td>0.999655</td>\n",
       "      <td>0.967083</td>\n",
       "    </tr>\n",
       "    <tr>\n",
       "      <th>Half-Life 2</th>\n",
       "      <td>6483</td>\n",
       "      <td>0.999075</td>\n",
       "      <td>0.999537</td>\n",
       "      <td>0.963967</td>\n",
       "    </tr>\n",
       "    <tr>\n",
       "      <th>Factorio</th>\n",
       "      <td>12553</td>\n",
       "      <td>0.977854</td>\n",
       "      <td>0.988927</td>\n",
       "      <td>0.960391</td>\n",
       "    </tr>\n",
       "    <tr>\n",
       "      <th>South Park™: The Stick of Truth™</th>\n",
       "      <td>3479</td>\n",
       "      <td>0.997700</td>\n",
       "      <td>0.998850</td>\n",
       "      <td>0.956010</td>\n",
       "    </tr>\n",
       "    <tr>\n",
       "      <th>Portal</th>\n",
       "      <td>16293</td>\n",
       "      <td>0.963174</td>\n",
       "      <td>0.981587</td>\n",
       "      <td>0.955602</td>\n",
       "    </tr>\n",
       "    <tr>\n",
       "      <th>The Binding of Isaac: Rebirth</th>\n",
       "      <td>23306</td>\n",
       "      <td>0.957264</td>\n",
       "      <td>0.978632</td>\n",
       "      <td>0.955444</td>\n",
       "    </tr>\n",
       "    <tr>\n",
       "      <th>Terraria</th>\n",
       "      <td>84828</td>\n",
       "      <td>0.941576</td>\n",
       "      <td>0.970788</td>\n",
       "      <td>0.955329</td>\n",
       "    </tr>\n",
       "    <tr>\n",
       "      <th>Star Wars: Battlefront 2 (Classic, 2005)</th>\n",
       "      <td>2976</td>\n",
       "      <td>1.000000</td>\n",
       "      <td>1.000000</td>\n",
       "      <td>0.954995</td>\n",
       "    </tr>\n",
       "    <tr>\n",
       "      <th>Unturned</th>\n",
       "      <td>5190</td>\n",
       "      <td>0.983044</td>\n",
       "      <td>0.991522</td>\n",
       "      <td>0.954099</td>\n",
       "    </tr>\n",
       "  </tbody>\n",
       "</table>\n",
       "</div>"
      ],
      "text/plain": [
       "                                          count      mean  positive_rate  \\\n",
       "app_name                                                                   \n",
       "Portal 2                                  38924  0.975542       0.987771   \n",
       "Sid Meier's Civilization V                 8693  0.999310       0.999655   \n",
       "Half-Life 2                                6483  0.999075       0.999537   \n",
       "Factorio                                  12553  0.977854       0.988927   \n",
       "South Park™: The Stick of Truth™           3479  0.997700       0.998850   \n",
       "Portal                                    16293  0.963174       0.981587   \n",
       "The Binding of Isaac: Rebirth             23306  0.957264       0.978632   \n",
       "Terraria                                  84828  0.941576       0.970788   \n",
       "Star Wars: Battlefront 2 (Classic, 2005)   2976  1.000000       1.000000   \n",
       "Unturned                                   5190  0.983044       0.991522   \n",
       "\n",
       "                                          weighted_score  \n",
       "app_name                                                  \n",
       "Portal 2                                        0.967521  \n",
       "Sid Meier's Civilization V                      0.967083  \n",
       "Half-Life 2                                     0.963967  \n",
       "Factorio                                        0.960391  \n",
       "South Park™: The Stick of Truth™                0.956010  \n",
       "Portal                                          0.955602  \n",
       "The Binding of Isaac: Rebirth                   0.955444  \n",
       "Terraria                                        0.955329  \n",
       "Star Wars: Battlefront 2 (Classic, 2005)        0.954995  \n",
       "Unturned                                        0.954099  "
      ]
     },
     "execution_count": 49,
     "metadata": {},
     "output_type": "execute_result"
    }
   ],
   "source": [
    "reviews_by_group.sort_values('weighted_score',ascending=False)[:10]"
   ]
  },
  {
   "cell_type": "code",
   "execution_count": 50,
   "metadata": {},
   "outputs": [
    {
     "data": {
      "text/plain": [
       "<seaborn.axisgrid.FacetGrid at 0x1ea0730d5b0>"
      ]
     },
     "execution_count": 50,
     "metadata": {},
     "output_type": "execute_result"
    },
    {
     "data": {
      "image/png": "[encoded data removed]",
      "text/plain": [
       "<Figure size 360x360 with 1 Axes>"
      ]
     },
     "metadata": {
      "needs_background": "light"
     },
     "output_type": "display_data"
    }
   ],
   "source": [
    "sns.displot(reviews_by_group['weighted_score'], kde=True)"
   ]
  },
  {
   "cell_type": "code",
   "execution_count": 51,
   "metadata": {},
   "outputs": [
    {
     "data": {
      "text/plain": [
       "<seaborn.axisgrid.FacetGrid at 0x1ea40ee51c0>"
      ]
     },
     "execution_count": 51,
     "metadata": {},
     "output_type": "execute_result"
    },
    {
     "data": {
      "image/png": "[encoded data removed]",
      "text/plain": [
       "<Figure size 360x360 with 1 Axes>"
      ]
     },
     "metadata": {
      "needs_background": "light"
     },
     "output_type": "display_data"
    }
   ],
   "source": [
    "sns.displot(reviews_by_group['positive_rate'], kde=True)"
   ]
  },
  {
   "cell_type": "code",
   "execution_count": 52,
   "metadata": {},
   "outputs": [
    {
     "data": {
      "text/plain": [
       "<seaborn.axisgrid.FacetGrid at 0x1ea40ee5880>"
      ]
     },
     "execution_count": 52,
     "metadata": {},
     "output_type": "execute_result"
    },
    {
     "data": {
      "image/png": "[encoded data removed]",
      "text/plain": [
       "<Figure size 360x360 with 1 Axes>"
      ]
     },
     "metadata": {
      "needs_background": "light"
     },
     "output_type": "display_data"
    }
   ],
   "source": [
    "sns.displot(reviews_by_group['mean'], kde=True)"
   ]
  },
  {
   "cell_type": "code",
   "execution_count": 53,
   "metadata": {},
   "outputs": [
    {
     "data": {
      "text/html": [
       "<div>\n",
       "<style scoped>\n",
       "    .dataframe tbody tr th:only-of-type {\n",
       "        vertical-align: middle;\n",
       "    }\n",
       "\n",
       "    .dataframe tbody tr th {\n",
       "        vertical-align: top;\n",
       "    }\n",
       "\n",
       "    .dataframe thead th {\n",
       "        text-align: right;\n",
       "    }\n",
       "</style>\n",
       "<table border=\"1\" class=\"dataframe\">\n",
       "  <thead>\n",
       "    <tr style=\"text-align: right;\">\n",
       "      <th></th>\n",
       "      <th>count</th>\n",
       "      <th>mean</th>\n",
       "      <th>positive_rate</th>\n",
       "      <th>weighted_score</th>\n",
       "    </tr>\n",
       "  </thead>\n",
       "  <tbody>\n",
       "    <tr>\n",
       "      <th>count</th>\n",
       "      <td>9364.000000</td>\n",
       "      <td>9364.000000</td>\n",
       "      <td>9301.000000</td>\n",
       "      <td>9301.000000</td>\n",
       "    </tr>\n",
       "    <tr>\n",
       "      <th>mean</th>\n",
       "      <td>685.295387</td>\n",
       "      <td>0.454351</td>\n",
       "      <td>0.732101</td>\n",
       "      <td>0.663346</td>\n",
       "    </tr>\n",
       "    <tr>\n",
       "      <th>std</th>\n",
       "      <td>3704.051137</td>\n",
       "      <td>0.428801</td>\n",
       "      <td>0.206574</td>\n",
       "      <td>0.147236</td>\n",
       "    </tr>\n",
       "    <tr>\n",
       "      <th>min</th>\n",
       "      <td>1.000000</td>\n",
       "      <td>-1.000000</td>\n",
       "      <td>0.029412</td>\n",
       "      <td>0.108476</td>\n",
       "    </tr>\n",
       "    <tr>\n",
       "      <th>25%</th>\n",
       "      <td>18.000000</td>\n",
       "      <td>0.200000</td>\n",
       "      <td>0.608974</td>\n",
       "      <td>0.571727</td>\n",
       "    </tr>\n",
       "    <tr>\n",
       "      <th>50%</th>\n",
       "      <td>58.000000</td>\n",
       "      <td>0.555556</td>\n",
       "      <td>0.778416</td>\n",
       "      <td>0.683285</td>\n",
       "    </tr>\n",
       "    <tr>\n",
       "      <th>75%</th>\n",
       "      <td>244.250000</td>\n",
       "      <td>0.788235</td>\n",
       "      <td>0.894737</td>\n",
       "      <td>0.772497</td>\n",
       "    </tr>\n",
       "    <tr>\n",
       "      <th>max</th>\n",
       "      <td>183234.000000</td>\n",
       "      <td>1.000000</td>\n",
       "      <td>1.000000</td>\n",
       "      <td>0.967521</td>\n",
       "    </tr>\n",
       "  </tbody>\n",
       "</table>\n",
       "</div>"
      ],
      "text/plain": [
       "               count         mean  positive_rate  weighted_score\n",
       "count    9364.000000  9364.000000    9301.000000     9301.000000\n",
       "mean      685.295387     0.454351       0.732101        0.663346\n",
       "std      3704.051137     0.428801       0.206574        0.147236\n",
       "min         1.000000    -1.000000       0.029412        0.108476\n",
       "25%        18.000000     0.200000       0.608974        0.571727\n",
       "50%        58.000000     0.555556       0.778416        0.683285\n",
       "75%       244.250000     0.788235       0.894737        0.772497\n",
       "max    183234.000000     1.000000       1.000000        0.967521"
      ]
     },
     "execution_count": 53,
     "metadata": {},
     "output_type": "execute_result"
    }
   ],
   "source": [
    "reviews_by_group.describe()"
   ]
  },
  {
   "cell_type": "code",
   "execution_count": 54,
   "metadata": {},
   "outputs": [],
   "source": [
    "reviews_by_group.to_csv('Datasets/reviews_processed.csv', index=True)"
   ]
  }
 ],
 "metadata": {
  "kernelspec": {
   "display_name": "Python 3",
   "language": "python",
   "name": "python3"
  },
  "language_info": {
   "codemirror_mode": {
    "name": "ipython",
    "version": 3
   },
   "file_extension": ".py",
   "mimetype": "text/x-python",
   "name": "python",
   "nbconvert_exporter": "python",
   "pygments_lexer": "ipython3",
   "version": "3.8.8"
  }
 },
 "nbformat": 4,
 "nbformat_minor": 2
}
