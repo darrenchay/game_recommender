{
 "cells": [
  {
   "cell_type": "code",
   "execution_count": 9,
   "metadata": {},
   "outputs": [],
   "source": [
    "import numpy as np\n",
    "import pandas as pd\n",
    "import seaborn as sns\n",
    "import matplotlib.pyplot as plt"
   ]
  },
  {
   "cell_type": "code",
   "execution_count": 10,
   "metadata": {
    "scrolled": true
   },
   "outputs": [
    {
     "data": {
      "text/html": [
       "<div>\n",
       "<style scoped>\n",
       "    .dataframe tbody tr th:only-of-type {\n",
       "        vertical-align: middle;\n",
       "    }\n",
       "\n",
       "    .dataframe tbody tr th {\n",
       "        vertical-align: top;\n",
       "    }\n",
       "\n",
       "    .dataframe thead th {\n",
       "        text-align: right;\n",
       "    }\n",
       "</style>\n",
       "<table border=\"1\" class=\"dataframe\">\n",
       "  <thead>\n",
       "    <tr style=\"text-align: right;\">\n",
       "      <th></th>\n",
       "      <th>app_name</th>\n",
       "      <th>review_text</th>\n",
       "      <th>review_score</th>\n",
       "      <th>review_votes</th>\n",
       "    </tr>\n",
       "  </thead>\n",
       "  <tbody>\n",
       "    <tr>\n",
       "      <th>0</th>\n",
       "      <td>Counter-Strike</td>\n",
       "      <td>Ruined my life.</td>\n",
       "      <td>1</td>\n",
       "      <td>0</td>\n",
       "    </tr>\n",
       "    <tr>\n",
       "      <th>1</th>\n",
       "      <td>Counter-Strike</td>\n",
       "      <td>This will be more of a ''my experience with th...</td>\n",
       "      <td>1</td>\n",
       "      <td>1</td>\n",
       "    </tr>\n",
       "    <tr>\n",
       "      <th>2</th>\n",
       "      <td>Counter-Strike</td>\n",
       "      <td>This game saved my virginity.</td>\n",
       "      <td>1</td>\n",
       "      <td>0</td>\n",
       "    </tr>\n",
       "    <tr>\n",
       "      <th>3</th>\n",
       "      <td>Counter-Strike</td>\n",
       "      <td>• Do you like original games? • Do you like ga...</td>\n",
       "      <td>1</td>\n",
       "      <td>0</td>\n",
       "    </tr>\n",
       "    <tr>\n",
       "      <th>4</th>\n",
       "      <td>Counter-Strike</td>\n",
       "      <td>Easy to learn, hard to master.</td>\n",
       "      <td>1</td>\n",
       "      <td>1</td>\n",
       "    </tr>\n",
       "  </tbody>\n",
       "</table>\n",
       "</div>"
      ],
      "text/plain": [
       "         app_name                                        review_text  \\\n",
       "0  Counter-Strike                                    Ruined my life.   \n",
       "1  Counter-Strike  This will be more of a ''my experience with th...   \n",
       "2  Counter-Strike                      This game saved my virginity.   \n",
       "3  Counter-Strike  • Do you like original games? • Do you like ga...   \n",
       "4  Counter-Strike           Easy to learn, hard to master.             \n",
       "\n",
       "   review_score  review_votes  \n",
       "0             1             0  \n",
       "1             1             1  \n",
       "2             1             0  \n",
       "3             1             0  \n",
       "4             1             1  "
      ]
     },
     "execution_count": 10,
     "metadata": {},
     "output_type": "execute_result"
    }
   ],
   "source": [
    "reviews = pd.read_csv('Datasets/reviews.csv')\n",
    "reviews.drop('app_id', axis=1, inplace=True)\n",
    "reviews.head()"
   ]
  },
  {
   "cell_type": "code",
   "execution_count": 11,
   "metadata": {},
   "outputs": [
    {
     "data": {
      "text/html": [
       "<div>\n",
       "<style scoped>\n",
       "    .dataframe tbody tr th:only-of-type {\n",
       "        vertical-align: middle;\n",
       "    }\n",
       "\n",
       "    .dataframe tbody tr th {\n",
       "        vertical-align: top;\n",
       "    }\n",
       "\n",
       "    .dataframe thead th {\n",
       "        text-align: right;\n",
       "    }\n",
       "</style>\n",
       "<table border=\"1\" class=\"dataframe\">\n",
       "  <thead>\n",
       "    <tr style=\"text-align: right;\">\n",
       "      <th></th>\n",
       "      <th>app_name</th>\n",
       "      <th>review_text</th>\n",
       "      <th>review_score</th>\n",
       "      <th>review_votes</th>\n",
       "    </tr>\n",
       "  </thead>\n",
       "  <tbody>\n",
       "    <tr>\n",
       "      <th>2058183</th>\n",
       "      <td>War Thunder</td>\n",
       "      <td>-Playing as a Soviet tank -Begin shooting fell...</td>\n",
       "      <td>1</td>\n",
       "      <td>1</td>\n",
       "    </tr>\n",
       "    <tr>\n",
       "      <th>3890490</th>\n",
       "      <td>Train Fever</td>\n",
       "      <td>when i first booted the game it was ok second ...</td>\n",
       "      <td>1</td>\n",
       "      <td>0</td>\n",
       "    </tr>\n",
       "    <tr>\n",
       "      <th>3655793</th>\n",
       "      <td>The Witcher 3: Wild Hunt</td>\n",
       "      <td>Very good game. This will be GOTY for sure.</td>\n",
       "      <td>1</td>\n",
       "      <td>0</td>\n",
       "    </tr>\n",
       "    <tr>\n",
       "      <th>37827</th>\n",
       "      <td>Orcs Must Die!</td>\n",
       "      <td>Damn this game is fun! The art style is perfec...</td>\n",
       "      <td>1</td>\n",
       "      <td>0</td>\n",
       "    </tr>\n",
       "    <tr>\n",
       "      <th>4871756</th>\n",
       "      <td>DARK SOULS™ III</td>\n",
       "      <td>This game takes most of the great ♥♥♥♥ from th...</td>\n",
       "      <td>1</td>\n",
       "      <td>0</td>\n",
       "    </tr>\n",
       "    <tr>\n",
       "      <th>789846</th>\n",
       "      <td>Batman™: Arkham Origins</td>\n",
       "      <td>The only reason I recommend this game is for t...</td>\n",
       "      <td>1</td>\n",
       "      <td>0</td>\n",
       "    </tr>\n",
       "    <tr>\n",
       "      <th>5469160</th>\n",
       "      <td>Factorio</td>\n",
       "      <td>Early Access Review</td>\n",
       "      <td>1</td>\n",
       "      <td>0</td>\n",
       "    </tr>\n",
       "    <tr>\n",
       "      <th>122796</th>\n",
       "      <td>Terraria</td>\n",
       "      <td>Very exciting while playing with friends :)</td>\n",
       "      <td>1</td>\n",
       "      <td>0</td>\n",
       "    </tr>\n",
       "    <tr>\n",
       "      <th>86124</th>\n",
       "      <td>Terraria</td>\n",
       "      <td>it's the best game ever!! :D</td>\n",
       "      <td>1</td>\n",
       "      <td>0</td>\n",
       "    </tr>\n",
       "    <tr>\n",
       "      <th>6012545</th>\n",
       "      <td>ICEY</td>\n",
       "      <td>The art is great, the combat animations are fl...</td>\n",
       "      <td>1</td>\n",
       "      <td>0</td>\n",
       "    </tr>\n",
       "  </tbody>\n",
       "</table>\n",
       "</div>"
      ],
      "text/plain": [
       "                         app_name  \\\n",
       "2058183               War Thunder   \n",
       "3890490               Train Fever   \n",
       "3655793  The Witcher 3: Wild Hunt   \n",
       "37827              Orcs Must Die!   \n",
       "4871756           DARK SOULS™ III   \n",
       "789846    Batman™: Arkham Origins   \n",
       "5469160                  Factorio   \n",
       "122796                   Terraria   \n",
       "86124                    Terraria   \n",
       "6012545                      ICEY   \n",
       "\n",
       "                                               review_text  review_score  \\\n",
       "2058183  -Playing as a Soviet tank -Begin shooting fell...             1   \n",
       "3890490  when i first booted the game it was ok second ...             1   \n",
       "3655793        Very good game. This will be GOTY for sure.             1   \n",
       "37827    Damn this game is fun! The art style is perfec...             1   \n",
       "4871756  This game takes most of the great ♥♥♥♥ from th...             1   \n",
       "789846   The only reason I recommend this game is for t...             1   \n",
       "5469160                                Early Access Review             1   \n",
       "122796         Very exciting while playing with friends :)             1   \n",
       "86124                         it's the best game ever!! :D             1   \n",
       "6012545  The art is great, the combat animations are fl...             1   \n",
       "\n",
       "         review_votes  \n",
       "2058183             1  \n",
       "3890490             0  \n",
       "3655793             0  \n",
       "37827               0  \n",
       "4871756             0  \n",
       "789846              0  \n",
       "5469160             0  \n",
       "122796              0  \n",
       "86124               0  \n",
       "6012545             0  "
      ]
     },
     "execution_count": 11,
     "metadata": {},
     "output_type": "execute_result"
    }
   ],
   "source": [
    "reviews.sample(10)"
   ]
  },
  {
   "cell_type": "code",
   "execution_count": 12,
   "metadata": {},
   "outputs": [
    {
     "data": {
      "text/html": [
       "<div>\n",
       "<style scoped>\n",
       "    .dataframe tbody tr th:only-of-type {\n",
       "        vertical-align: middle;\n",
       "    }\n",
       "\n",
       "    .dataframe tbody tr th {\n",
       "        vertical-align: top;\n",
       "    }\n",
       "\n",
       "    .dataframe thead th {\n",
       "        text-align: right;\n",
       "    }\n",
       "</style>\n",
       "<table border=\"1\" class=\"dataframe\">\n",
       "  <thead>\n",
       "    <tr style=\"text-align: right;\">\n",
       "      <th></th>\n",
       "      <th>review_score</th>\n",
       "      <th>review_votes</th>\n",
       "    </tr>\n",
       "  </thead>\n",
       "  <tbody>\n",
       "    <tr>\n",
       "      <th>count</th>\n",
       "      <td>6.417106e+06</td>\n",
       "      <td>6.417106e+06</td>\n",
       "    </tr>\n",
       "    <tr>\n",
       "      <th>mean</th>\n",
       "      <td>6.394992e-01</td>\n",
       "      <td>1.472446e-01</td>\n",
       "    </tr>\n",
       "    <tr>\n",
       "      <th>std</th>\n",
       "      <td>7.687918e-01</td>\n",
       "      <td>3.543496e-01</td>\n",
       "    </tr>\n",
       "    <tr>\n",
       "      <th>min</th>\n",
       "      <td>-1.000000e+00</td>\n",
       "      <td>0.000000e+00</td>\n",
       "    </tr>\n",
       "    <tr>\n",
       "      <th>25%</th>\n",
       "      <td>1.000000e+00</td>\n",
       "      <td>0.000000e+00</td>\n",
       "    </tr>\n",
       "    <tr>\n",
       "      <th>50%</th>\n",
       "      <td>1.000000e+00</td>\n",
       "      <td>0.000000e+00</td>\n",
       "    </tr>\n",
       "    <tr>\n",
       "      <th>75%</th>\n",
       "      <td>1.000000e+00</td>\n",
       "      <td>0.000000e+00</td>\n",
       "    </tr>\n",
       "    <tr>\n",
       "      <th>max</th>\n",
       "      <td>1.000000e+00</td>\n",
       "      <td>1.000000e+00</td>\n",
       "    </tr>\n",
       "  </tbody>\n",
       "</table>\n",
       "</div>"
      ],
      "text/plain": [
       "       review_score  review_votes\n",
       "count  6.417106e+06  6.417106e+06\n",
       "mean   6.394992e-01  1.472446e-01\n",
       "std    7.687918e-01  3.543496e-01\n",
       "min   -1.000000e+00  0.000000e+00\n",
       "25%    1.000000e+00  0.000000e+00\n",
       "50%    1.000000e+00  0.000000e+00\n",
       "75%    1.000000e+00  0.000000e+00\n",
       "max    1.000000e+00  1.000000e+00"
      ]
     },
     "execution_count": 12,
     "metadata": {},
     "output_type": "execute_result"
    }
   ],
   "source": [
    "reviews.describe()"
   ]
  },
  {
   "cell_type": "code",
   "execution_count": 13,
   "metadata": {},
   "outputs": [
    {
     "name": "stdout",
     "output_type": "stream",
     "text": [
      " 1    5260420\n",
      "-1    1156686\n",
      "Name: review_score, dtype: int64\n",
      "\n",
      "0    5472222\n",
      "1     944884\n",
      "Name: review_votes, dtype: int64\n"
     ]
    }
   ],
   "source": [
    "print(reviews['review_score'].value_counts())\n",
    "print()\n",
    "print(reviews['review_votes'].value_counts())"
   ]
  },
  {
   "cell_type": "markdown",
   "metadata": {},
   "source": [
    "### Weighted review score\n",
    "In order to give a proper score for each game, it would not be appropriate to just calculate the average (since in the case where an average of 1.0 across 1 review is against an average of 0.95 across 100 reviews, the latter would be considered better). Therefore an appropriate formula need to be chosen to calculate this. This [blog post](https://steamdb.info/blog/steamdb-rating/) gives a solution to this."
   ]
  },
  {
   "cell_type": "code",
   "execution_count": 14,
   "metadata": {
    "scrolled": false
   },
   "outputs": [],
   "source": [
    "positive_reviews = reviews[reviews['review_score']==1].groupby('app_name').count()"
   ]
  },
  {
   "cell_type": "code",
   "execution_count": 15,
   "metadata": {},
   "outputs": [
    {
     "data": {
      "text/html": [
       "<div>\n",
       "<style scoped>\n",
       "    .dataframe tbody tr th:only-of-type {\n",
       "        vertical-align: middle;\n",
       "    }\n",
       "\n",
       "    .dataframe tbody tr th {\n",
       "        vertical-align: top;\n",
       "    }\n",
       "\n",
       "    .dataframe thead th {\n",
       "        text-align: right;\n",
       "    }\n",
       "</style>\n",
       "<table border=\"1\" class=\"dataframe\">\n",
       "  <thead>\n",
       "    <tr style=\"text-align: right;\">\n",
       "      <th></th>\n",
       "      <th>count</th>\n",
       "      <th>mean</th>\n",
       "      <th>positive_rate</th>\n",
       "    </tr>\n",
       "    <tr>\n",
       "      <th>app_name</th>\n",
       "      <th></th>\n",
       "      <th></th>\n",
       "      <th></th>\n",
       "    </tr>\n",
       "  </thead>\n",
       "  <tbody>\n",
       "    <tr>\n",
       "      <th>DinoSystem</th>\n",
       "      <td>102</td>\n",
       "      <td>0.725490</td>\n",
       "      <td>0.862745</td>\n",
       "    </tr>\n",
       "    <tr>\n",
       "      <th>Rulers of Nations</th>\n",
       "      <td>59</td>\n",
       "      <td>-0.186441</td>\n",
       "      <td>0.406780</td>\n",
       "    </tr>\n",
       "    <tr>\n",
       "      <th>Next Stop 2</th>\n",
       "      <td>2</td>\n",
       "      <td>0.000000</td>\n",
       "      <td>0.500000</td>\n",
       "    </tr>\n",
       "    <tr>\n",
       "      <th>There Came an Echo</th>\n",
       "      <td>218</td>\n",
       "      <td>0.568807</td>\n",
       "      <td>0.784404</td>\n",
       "    </tr>\n",
       "    <tr>\n",
       "      <th>Don't open the doors!</th>\n",
       "      <td>20</td>\n",
       "      <td>0.600000</td>\n",
       "      <td>0.800000</td>\n",
       "    </tr>\n",
       "  </tbody>\n",
       "</table>\n",
       "</div>"
      ],
      "text/plain": [
       "                       count      mean  positive_rate\n",
       "app_name                                             \n",
       "DinoSystem               102  0.725490       0.862745\n",
       "Rulers of Nations         59 -0.186441       0.406780\n",
       "Next Stop 2                2  0.000000       0.500000\n",
       "There Came an Echo       218  0.568807       0.784404\n",
       "Don't open the doors!     20  0.600000       0.800000"
      ]
     },
     "execution_count": 15,
     "metadata": {},
     "output_type": "execute_result"
    }
   ],
   "source": [
    "# count and mean of review_score_and_votes grouped by game\n",
    "reviews_by_group = reviews.groupby(reviews[\"app_name\"]).review_score.agg([\"count\",\"mean\"])\n",
    "positive_reviews = reviews[reviews['review_score']==1].groupby('app_name').count()['review_score']\n",
    "reviews_by_group['positive_rate'] = positive_reviews/reviews_by_group['count']\n",
    "reviews_by_group.sample(5)"
   ]
  },
  {
   "cell_type": "code",
   "execution_count": 16,
   "metadata": {},
   "outputs": [
    {
     "data": {
      "text/html": [
       "<div>\n",
       "<style scoped>\n",
       "    .dataframe tbody tr th:only-of-type {\n",
       "        vertical-align: middle;\n",
       "    }\n",
       "\n",
       "    .dataframe tbody tr th {\n",
       "        vertical-align: top;\n",
       "    }\n",
       "\n",
       "    .dataframe thead th {\n",
       "        text-align: right;\n",
       "    }\n",
       "</style>\n",
       "<table border=\"1\" class=\"dataframe\">\n",
       "  <thead>\n",
       "    <tr style=\"text-align: right;\">\n",
       "      <th></th>\n",
       "      <th>count</th>\n",
       "      <th>mean</th>\n",
       "      <th>positive_rate</th>\n",
       "      <th>weighted_score</th>\n",
       "    </tr>\n",
       "    <tr>\n",
       "      <th>app_name</th>\n",
       "      <th></th>\n",
       "      <th></th>\n",
       "      <th></th>\n",
       "      <th></th>\n",
       "    </tr>\n",
       "  </thead>\n",
       "  <tbody>\n",
       "    <tr>\n",
       "      <th>The Labyrinth of Grisaia</th>\n",
       "      <td>33</td>\n",
       "      <td>0.696970</td>\n",
       "      <td>0.848485</td>\n",
       "      <td>0.727936</td>\n",
       "    </tr>\n",
       "    <tr>\n",
       "      <th>Chill the Piro</th>\n",
       "      <td>4</td>\n",
       "      <td>1.000000</td>\n",
       "      <td>1.000000</td>\n",
       "      <td>0.691994</td>\n",
       "    </tr>\n",
       "    <tr>\n",
       "      <th>Suppressed</th>\n",
       "      <td>3</td>\n",
       "      <td>1.000000</td>\n",
       "      <td>1.000000</td>\n",
       "      <td>0.670594</td>\n",
       "    </tr>\n",
       "    <tr>\n",
       "      <th>e-River Cabin Journal</th>\n",
       "      <td>29</td>\n",
       "      <td>0.034483</td>\n",
       "      <td>0.517241</td>\n",
       "      <td>0.511048</td>\n",
       "    </tr>\n",
       "    <tr>\n",
       "      <th>The Asskickers</th>\n",
       "      <td>22</td>\n",
       "      <td>-0.363636</td>\n",
       "      <td>0.318182</td>\n",
       "      <td>0.388930</td>\n",
       "    </tr>\n",
       "  </tbody>\n",
       "</table>\n",
       "</div>"
      ],
      "text/plain": [
       "                          count      mean  positive_rate  weighted_score\n",
       "app_name                                                                \n",
       "The Labyrinth of Grisaia     33  0.696970       0.848485        0.727936\n",
       "Chill the Piro                4  1.000000       1.000000        0.691994\n",
       "Suppressed                    3  1.000000       1.000000        0.670594\n",
       "e-River Cabin Journal        29  0.034483       0.517241        0.511048\n",
       "The Asskickers               22 -0.363636       0.318182        0.388930"
      ]
     },
     "execution_count": 16,
     "metadata": {},
     "output_type": "execute_result"
    }
   ],
   "source": [
    "import math \n",
    "\n",
    "def calc_weighted_score(rate, total):\n",
    "    return rate - (rate - 0.5) * math.pow(2, -math.log10(total+1))\n",
    "\n",
    "weighted_score = []\n",
    "for r, t in zip(reviews_by_group['positive_rate'], reviews_by_group['count']):\n",
    "    weighted_score.append(calc_weighted_score(r, t))\n",
    "reviews_by_group['weighted_score'] = weighted_score\n",
    "reviews_by_group.sample(5)"
   ]
  },
  {
   "cell_type": "markdown",
   "metadata": {},
   "source": [
    "### Analyzing new features"
   ]
  },
  {
   "cell_type": "code",
   "execution_count": 17,
   "metadata": {},
   "outputs": [
    {
     "data": {
      "text/html": [
       "<div>\n",
       "<style scoped>\n",
       "    .dataframe tbody tr th:only-of-type {\n",
       "        vertical-align: middle;\n",
       "    }\n",
       "\n",
       "    .dataframe tbody tr th {\n",
       "        vertical-align: top;\n",
       "    }\n",
       "\n",
       "    .dataframe thead th {\n",
       "        text-align: right;\n",
       "    }\n",
       "</style>\n",
       "<table border=\"1\" class=\"dataframe\">\n",
       "  <thead>\n",
       "    <tr style=\"text-align: right;\">\n",
       "      <th></th>\n",
       "      <th>count</th>\n",
       "      <th>mean</th>\n",
       "      <th>positive_rate</th>\n",
       "      <th>weighted_score</th>\n",
       "    </tr>\n",
       "    <tr>\n",
       "      <th>app_name</th>\n",
       "      <th></th>\n",
       "      <th></th>\n",
       "      <th></th>\n",
       "      <th></th>\n",
       "    </tr>\n",
       "  </thead>\n",
       "  <tbody>\n",
       "    <tr>\n",
       "      <th>Portal 2</th>\n",
       "      <td>38924</td>\n",
       "      <td>0.975542</td>\n",
       "      <td>0.987771</td>\n",
       "      <td>0.967521</td>\n",
       "    </tr>\n",
       "    <tr>\n",
       "      <th>Sid Meier's Civilization V</th>\n",
       "      <td>8693</td>\n",
       "      <td>0.999310</td>\n",
       "      <td>0.999655</td>\n",
       "      <td>0.967083</td>\n",
       "    </tr>\n",
       "    <tr>\n",
       "      <th>Half-Life 2</th>\n",
       "      <td>6483</td>\n",
       "      <td>0.999075</td>\n",
       "      <td>0.999537</td>\n",
       "      <td>0.963967</td>\n",
       "    </tr>\n",
       "    <tr>\n",
       "      <th>Factorio</th>\n",
       "      <td>12553</td>\n",
       "      <td>0.977854</td>\n",
       "      <td>0.988927</td>\n",
       "      <td>0.960391</td>\n",
       "    </tr>\n",
       "    <tr>\n",
       "      <th>South Park™: The Stick of Truth™</th>\n",
       "      <td>3479</td>\n",
       "      <td>0.997700</td>\n",
       "      <td>0.998850</td>\n",
       "      <td>0.956010</td>\n",
       "    </tr>\n",
       "    <tr>\n",
       "      <th>Portal</th>\n",
       "      <td>16293</td>\n",
       "      <td>0.963174</td>\n",
       "      <td>0.981587</td>\n",
       "      <td>0.955602</td>\n",
       "    </tr>\n",
       "    <tr>\n",
       "      <th>The Binding of Isaac: Rebirth</th>\n",
       "      <td>23306</td>\n",
       "      <td>0.957264</td>\n",
       "      <td>0.978632</td>\n",
       "      <td>0.955444</td>\n",
       "    </tr>\n",
       "    <tr>\n",
       "      <th>Terraria</th>\n",
       "      <td>84828</td>\n",
       "      <td>0.941576</td>\n",
       "      <td>0.970788</td>\n",
       "      <td>0.955329</td>\n",
       "    </tr>\n",
       "    <tr>\n",
       "      <th>Star Wars: Battlefront 2 (Classic, 2005)</th>\n",
       "      <td>2976</td>\n",
       "      <td>1.000000</td>\n",
       "      <td>1.000000</td>\n",
       "      <td>0.954995</td>\n",
       "    </tr>\n",
       "    <tr>\n",
       "      <th>Unturned</th>\n",
       "      <td>5190</td>\n",
       "      <td>0.983044</td>\n",
       "      <td>0.991522</td>\n",
       "      <td>0.954099</td>\n",
       "    </tr>\n",
       "  </tbody>\n",
       "</table>\n",
       "</div>"
      ],
      "text/plain": [
       "                                          count      mean  positive_rate  \\\n",
       "app_name                                                                   \n",
       "Portal 2                                  38924  0.975542       0.987771   \n",
       "Sid Meier's Civilization V                 8693  0.999310       0.999655   \n",
       "Half-Life 2                                6483  0.999075       0.999537   \n",
       "Factorio                                  12553  0.977854       0.988927   \n",
       "South Park™: The Stick of Truth™           3479  0.997700       0.998850   \n",
       "Portal                                    16293  0.963174       0.981587   \n",
       "The Binding of Isaac: Rebirth             23306  0.957264       0.978632   \n",
       "Terraria                                  84828  0.941576       0.970788   \n",
       "Star Wars: Battlefront 2 (Classic, 2005)   2976  1.000000       1.000000   \n",
       "Unturned                                   5190  0.983044       0.991522   \n",
       "\n",
       "                                          weighted_score  \n",
       "app_name                                                  \n",
       "Portal 2                                        0.967521  \n",
       "Sid Meier's Civilization V                      0.967083  \n",
       "Half-Life 2                                     0.963967  \n",
       "Factorio                                        0.960391  \n",
       "South Park™: The Stick of Truth™                0.956010  \n",
       "Portal                                          0.955602  \n",
       "The Binding of Isaac: Rebirth                   0.955444  \n",
       "Terraria                                        0.955329  \n",
       "Star Wars: Battlefront 2 (Classic, 2005)        0.954995  \n",
       "Unturned                                        0.954099  "
      ]
     },
     "execution_count": 17,
     "metadata": {},
     "output_type": "execute_result"
    }
   ],
   "source": [
    "reviews_by_group.sort_values('weighted_score',ascending=False)[:10]"
   ]
  },
  {
   "cell_type": "code",
   "execution_count": 18,
   "metadata": {},
   "outputs": [
    {
     "data": {
      "text/plain": [
       "<seaborn.axisgrid.FacetGrid at 0x1ea072a67c0>"
      ]
     },
     "execution_count": 18,
     "metadata": {},
     "output_type": "execute_result"
    },
    {
     "data": {
      "image/png": "[encoded data removed]",
      "text/plain": [
       "<Figure size 360x360 with 1 Axes>"
      ]
     },
     "metadata": {
      "needs_background": "light"
     },
     "output_type": "display_data"
    }
   ],
   "source": [
    "sns.displot(reviews_by_group['weighted_score'], kde=True)"
   ]
  },
  {
   "cell_type": "code",
   "execution_count": 20,
   "metadata": {},
   "outputs": [
    {
     "data": {
      "text/plain": [
       "<seaborn.axisgrid.FacetGrid at 0x1ea0734d6a0>"
      ]
     },
     "execution_count": 20,
     "metadata": {},
     "output_type": "execute_result"
    },
    {
     "data": {
      "image/png": "[encoded data removed]",
      "text/plain": [
       "<Figure size 360x360 with 1 Axes>"
      ]
     },
     "metadata": {
      "needs_background": "light"
     },
     "output_type": "display_data"
    }
   ],
   "source": [
    "sns.displot(reviews_by_group['positive_rate'], kde=True)"
   ]
  },
  {
   "cell_type": "code",
   "execution_count": 21,
   "metadata": {},
   "outputs": [
    {
     "data": {
      "text/plain": [
       "<seaborn.axisgrid.FacetGrid at 0x1ea0591ae20>"
      ]
     },
     "execution_count": 21,
     "metadata": {},
     "output_type": "execute_result"
    },
    {
     "data": {
      "image/png": "[encoded data removed]",
      "text/plain": [
       "<Figure size 360x360 with 1 Axes>"
      ]
     },
     "metadata": {
      "needs_background": "light"
     },
     "output_type": "display_data"
    }
   ],
   "source": [
    "sns.displot(reviews_by_group['mean'], kde=True)"
   ]
  },
  {
   "cell_type": "code",
   "execution_count": 22,
   "metadata": {},
   "outputs": [
    {
     "data": {
      "text/html": [
       "<div>\n",
       "<style scoped>\n",
       "    .dataframe tbody tr th:only-of-type {\n",
       "        vertical-align: middle;\n",
       "    }\n",
       "\n",
       "    .dataframe tbody tr th {\n",
       "        vertical-align: top;\n",
       "    }\n",
       "\n",
       "    .dataframe thead th {\n",
       "        text-align: right;\n",
       "    }\n",
       "</style>\n",
       "<table border=\"1\" class=\"dataframe\">\n",
       "  <thead>\n",
       "    <tr style=\"text-align: right;\">\n",
       "      <th></th>\n",
       "      <th>count</th>\n",
       "      <th>mean</th>\n",
       "      <th>positive_rate</th>\n",
       "      <th>weighted_score</th>\n",
       "    </tr>\n",
       "  </thead>\n",
       "  <tbody>\n",
       "    <tr>\n",
       "      <th>count</th>\n",
       "      <td>9363.000000</td>\n",
       "      <td>9363.000000</td>\n",
       "      <td>9300.000000</td>\n",
       "      <td>9300.000000</td>\n",
       "    </tr>\n",
       "    <tr>\n",
       "      <th>mean</th>\n",
       "      <td>665.798569</td>\n",
       "      <td>0.454357</td>\n",
       "      <td>0.732104</td>\n",
       "      <td>0.663343</td>\n",
       "    </tr>\n",
       "    <tr>\n",
       "      <th>std</th>\n",
       "      <td>3187.723508</td>\n",
       "      <td>0.428824</td>\n",
       "      <td>0.206585</td>\n",
       "      <td>0.147244</td>\n",
       "    </tr>\n",
       "    <tr>\n",
       "      <th>min</th>\n",
       "      <td>1.000000</td>\n",
       "      <td>-1.000000</td>\n",
       "      <td>0.029412</td>\n",
       "      <td>0.108476</td>\n",
       "    </tr>\n",
       "    <tr>\n",
       "      <th>25%</th>\n",
       "      <td>18.000000</td>\n",
       "      <td>0.200000</td>\n",
       "      <td>0.608905</td>\n",
       "      <td>0.571727</td>\n",
       "    </tr>\n",
       "    <tr>\n",
       "      <th>50%</th>\n",
       "      <td>58.000000</td>\n",
       "      <td>0.555556</td>\n",
       "      <td>0.778470</td>\n",
       "      <td>0.683278</td>\n",
       "    </tr>\n",
       "    <tr>\n",
       "      <th>75%</th>\n",
       "      <td>244.000000</td>\n",
       "      <td>0.788235</td>\n",
       "      <td>0.894737</td>\n",
       "      <td>0.772497</td>\n",
       "    </tr>\n",
       "    <tr>\n",
       "      <th>max</th>\n",
       "      <td>88973.000000</td>\n",
       "      <td>1.000000</td>\n",
       "      <td>1.000000</td>\n",
       "      <td>0.967521</td>\n",
       "    </tr>\n",
       "  </tbody>\n",
       "</table>\n",
       "</div>"
      ],
      "text/plain": [
       "              count         mean  positive_rate  weighted_score\n",
       "count   9363.000000  9363.000000    9300.000000     9300.000000\n",
       "mean     665.798569     0.454357       0.732104        0.663343\n",
       "std     3187.723508     0.428824       0.206585        0.147244\n",
       "min        1.000000    -1.000000       0.029412        0.108476\n",
       "25%       18.000000     0.200000       0.608905        0.571727\n",
       "50%       58.000000     0.555556       0.778470        0.683278\n",
       "75%      244.000000     0.788235       0.894737        0.772497\n",
       "max    88973.000000     1.000000       1.000000        0.967521"
      ]
     },
     "execution_count": 22,
     "metadata": {},
     "output_type": "execute_result"
    }
   ],
   "source": [
    "reviews_by_group.describe()"
   ]
  },
  {
   "cell_type": "code",
   "execution_count": 19,
   "metadata": {},
   "outputs": [],
   "source": [
    "reviews_by_group.to_csv('Datasets/reviews_processed.csv', index=True)"
   ]
  }
 ],
 "metadata": {
  "kernelspec": {
   "display_name": "Python 3",
   "language": "python",
   "name": "python3"
  },
  "language_info": {
   "codemirror_mode": {
    "name": "ipython",
    "version": 3
   },
   "file_extension": ".py",
   "mimetype": "text/x-python",
   "name": "python",
   "nbconvert_exporter": "python",
   "pygments_lexer": "ipython3",
   "version": "3.8.8"
  }
 },
 "nbformat": 4,
 "nbformat_minor": 2
}
