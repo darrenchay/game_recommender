{
 "cells": [
  {
   "cell_type": "markdown",
   "metadata": {},
   "source": [
    "### DATA EXTRACTION AND CLEANING"
   ]
  },
  {
   "cell_type": "code",
   "execution_count": 1,
   "metadata": {},
   "outputs": [],
   "source": [
    "# Importing libraries\n",
    "import numpy as np\n",
    "import pandas as pd\n",
    "import matplotlib.pyplot as plt\n",
    "import seaborn as sns; sns.set()"
   ]
  },
  {
   "cell_type": "code",
   "execution_count": null,
   "metadata": {},
   "outputs": [],
   "source": [
    "# Loading data\n",
    "steam_data = np.loadtxt('steam.csv', delimiter=',')\n",
    "game_tags = np.loadtxt('steamspy_tag.csv', delimiter=',')\n",
    "game_desc = np.loadtxt('steam_description_data.csv', delimiter=',')\n",
    "reviews = np.loadtxt('reviews.csv', delimiter=',')\n",
    "user_data = np.loadtxt('user_data.csv', delimiter=',')"
   ]
  }
 ],
 "metadata": {
  "interpreter": {
   "hash": "38a81db086d2ba7718585c8c5987e205853e5f5d32da9e20516598ae4cd88c25"
  },
  "kernelspec": {
   "display_name": "Python 3.8.8 64-bit ('base': conda)",
   "language": "python",
   "name": "python3"
  },
  "language_info": {
   "codemirror_mode": {
    "name": "ipython",
    "version": 3
   },
   "file_extension": ".py",
   "mimetype": "text/x-python",
   "name": "python",
   "nbconvert_exporter": "python",
   "pygments_lexer": "ipython3",
   "version": "3.8.8"
  },
  "orig_nbformat": 4
 },
 "nbformat": 4,
 "nbformat_minor": 2
}
