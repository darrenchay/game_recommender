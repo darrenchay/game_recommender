{
 "cells": [
  {
   "cell_type": "markdown",
   "metadata": {},
   "source": [
    "### Training Model using Count Vectorization"
   ]
  },
  {
   "cell_type": "code",
   "execution_count": 140,
   "metadata": {},
   "outputs": [],
   "source": [
    "# Importing libraries\n",
    "import numpy as np\n",
    "import pandas as pd\n",
    "import matplotlib.pyplot as plt\n",
    "import seaborn as sns; sns.set()\n",
    "\n",
    "# Import CountVectorizer and create the count matrix\n",
    "from sklearn.feature_extraction.text import CountVectorizer\n",
    "# Compute the Cosine Similarity matrix based on the count_matrix\n",
    "from sklearn.metrics.pairwise import cosine_similarity"
   ]
  },
  {
   "cell_type": "code",
   "execution_count": 141,
   "metadata": {},
   "outputs": [],
   "source": [
    "# Loading data\n",
    "steam_data = pd.read_csv('Datasets/steam.csv')\n",
    "descriptions = pd.read_csv('Datasets/steam_description_data.csv')"
   ]
  },
  {
   "cell_type": "code",
   "execution_count": 142,
   "metadata": {},
   "outputs": [
    {
     "data": {
      "text/html": [
       "<div>\n",
       "<style scoped>\n",
       "    .dataframe tbody tr th:only-of-type {\n",
       "        vertical-align: middle;\n",
       "    }\n",
       "\n",
       "    .dataframe tbody tr th {\n",
       "        vertical-align: top;\n",
       "    }\n",
       "\n",
       "    .dataframe thead th {\n",
       "        text-align: right;\n",
       "    }\n",
       "</style>\n",
       "<table border=\"1\" class=\"dataframe\">\n",
       "  <thead>\n",
       "    <tr style=\"text-align: right;\">\n",
       "      <th></th>\n",
       "      <th>appid</th>\n",
       "      <th>name</th>\n",
       "      <th>release_date</th>\n",
       "      <th>english</th>\n",
       "      <th>developer</th>\n",
       "      <th>publisher</th>\n",
       "      <th>platforms</th>\n",
       "      <th>required_age</th>\n",
       "      <th>categories</th>\n",
       "      <th>genres</th>\n",
       "      <th>steamspy_tags</th>\n",
       "      <th>achievements</th>\n",
       "      <th>positive_ratings</th>\n",
       "      <th>negative_ratings</th>\n",
       "      <th>average_playtime</th>\n",
       "      <th>median_playtime</th>\n",
       "      <th>owners</th>\n",
       "      <th>price</th>\n",
       "      <th>short_description</th>\n",
       "    </tr>\n",
       "  </thead>\n",
       "  <tbody>\n",
       "    <tr>\n",
       "      <th>0</th>\n",
       "      <td>10</td>\n",
       "      <td>Counter-Strike</td>\n",
       "      <td>2000-11-01</td>\n",
       "      <td>1</td>\n",
       "      <td>Valve</td>\n",
       "      <td>Valve</td>\n",
       "      <td>windows;mac;linux</td>\n",
       "      <td>0</td>\n",
       "      <td>Multi-player;Online Multi-Player;Local Multi-P...</td>\n",
       "      <td>Action</td>\n",
       "      <td>Action;FPS;Multiplayer</td>\n",
       "      <td>0</td>\n",
       "      <td>124534</td>\n",
       "      <td>3339</td>\n",
       "      <td>17612</td>\n",
       "      <td>317</td>\n",
       "      <td>10000000-20000000</td>\n",
       "      <td>7.19</td>\n",
       "      <td>Play the world's number 1 online action game. ...</td>\n",
       "    </tr>\n",
       "    <tr>\n",
       "      <th>1</th>\n",
       "      <td>20</td>\n",
       "      <td>Team Fortress Classic</td>\n",
       "      <td>1999-04-01</td>\n",
       "      <td>1</td>\n",
       "      <td>Valve</td>\n",
       "      <td>Valve</td>\n",
       "      <td>windows;mac;linux</td>\n",
       "      <td>0</td>\n",
       "      <td>Multi-player;Online Multi-Player;Local Multi-P...</td>\n",
       "      <td>Action</td>\n",
       "      <td>Action;FPS;Multiplayer</td>\n",
       "      <td>0</td>\n",
       "      <td>3318</td>\n",
       "      <td>633</td>\n",
       "      <td>277</td>\n",
       "      <td>62</td>\n",
       "      <td>5000000-10000000</td>\n",
       "      <td>3.99</td>\n",
       "      <td>One of the most popular online action games of...</td>\n",
       "    </tr>\n",
       "    <tr>\n",
       "      <th>2</th>\n",
       "      <td>30</td>\n",
       "      <td>Day of Defeat</td>\n",
       "      <td>2003-05-01</td>\n",
       "      <td>1</td>\n",
       "      <td>Valve</td>\n",
       "      <td>Valve</td>\n",
       "      <td>windows;mac;linux</td>\n",
       "      <td>0</td>\n",
       "      <td>Multi-player;Valve Anti-Cheat enabled</td>\n",
       "      <td>Action</td>\n",
       "      <td>FPS;World War II;Multiplayer</td>\n",
       "      <td>0</td>\n",
       "      <td>3416</td>\n",
       "      <td>398</td>\n",
       "      <td>187</td>\n",
       "      <td>34</td>\n",
       "      <td>5000000-10000000</td>\n",
       "      <td>3.99</td>\n",
       "      <td>Enlist in an intense brand of Axis vs. Allied ...</td>\n",
       "    </tr>\n",
       "    <tr>\n",
       "      <th>3</th>\n",
       "      <td>40</td>\n",
       "      <td>Deathmatch Classic</td>\n",
       "      <td>2001-06-01</td>\n",
       "      <td>1</td>\n",
       "      <td>Valve</td>\n",
       "      <td>Valve</td>\n",
       "      <td>windows;mac;linux</td>\n",
       "      <td>0</td>\n",
       "      <td>Multi-player;Online Multi-Player;Local Multi-P...</td>\n",
       "      <td>Action</td>\n",
       "      <td>Action;FPS;Multiplayer</td>\n",
       "      <td>0</td>\n",
       "      <td>1273</td>\n",
       "      <td>267</td>\n",
       "      <td>258</td>\n",
       "      <td>184</td>\n",
       "      <td>5000000-10000000</td>\n",
       "      <td>3.99</td>\n",
       "      <td>Enjoy fast-paced multiplayer gaming with Death...</td>\n",
       "    </tr>\n",
       "    <tr>\n",
       "      <th>4</th>\n",
       "      <td>50</td>\n",
       "      <td>Half-Life: Opposing Force</td>\n",
       "      <td>1999-11-01</td>\n",
       "      <td>1</td>\n",
       "      <td>Gearbox Software</td>\n",
       "      <td>Valve</td>\n",
       "      <td>windows;mac;linux</td>\n",
       "      <td>0</td>\n",
       "      <td>Single-player;Multi-player;Valve Anti-Cheat en...</td>\n",
       "      <td>Action</td>\n",
       "      <td>FPS;Action;Sci-fi</td>\n",
       "      <td>0</td>\n",
       "      <td>5250</td>\n",
       "      <td>288</td>\n",
       "      <td>624</td>\n",
       "      <td>415</td>\n",
       "      <td>5000000-10000000</td>\n",
       "      <td>3.99</td>\n",
       "      <td>Return to the Black Mesa Research Facility as ...</td>\n",
       "    </tr>\n",
       "  </tbody>\n",
       "</table>\n",
       "</div>"
      ],
      "text/plain": [
       "   appid                       name release_date  english         developer  \\\n",
       "0     10             Counter-Strike   2000-11-01        1             Valve   \n",
       "1     20      Team Fortress Classic   1999-04-01        1             Valve   \n",
       "2     30              Day of Defeat   2003-05-01        1             Valve   \n",
       "3     40         Deathmatch Classic   2001-06-01        1             Valve   \n",
       "4     50  Half-Life: Opposing Force   1999-11-01        1  Gearbox Software   \n",
       "\n",
       "  publisher          platforms  required_age  \\\n",
       "0     Valve  windows;mac;linux             0   \n",
       "1     Valve  windows;mac;linux             0   \n",
       "2     Valve  windows;mac;linux             0   \n",
       "3     Valve  windows;mac;linux             0   \n",
       "4     Valve  windows;mac;linux             0   \n",
       "\n",
       "                                          categories  genres  \\\n",
       "0  Multi-player;Online Multi-Player;Local Multi-P...  Action   \n",
       "1  Multi-player;Online Multi-Player;Local Multi-P...  Action   \n",
       "2              Multi-player;Valve Anti-Cheat enabled  Action   \n",
       "3  Multi-player;Online Multi-Player;Local Multi-P...  Action   \n",
       "4  Single-player;Multi-player;Valve Anti-Cheat en...  Action   \n",
       "\n",
       "                  steamspy_tags  achievements  positive_ratings  \\\n",
       "0        Action;FPS;Multiplayer             0            124534   \n",
       "1        Action;FPS;Multiplayer             0              3318   \n",
       "2  FPS;World War II;Multiplayer             0              3416   \n",
       "3        Action;FPS;Multiplayer             0              1273   \n",
       "4             FPS;Action;Sci-fi             0              5250   \n",
       "\n",
       "   negative_ratings  average_playtime  median_playtime             owners  \\\n",
       "0              3339             17612              317  10000000-20000000   \n",
       "1               633               277               62   5000000-10000000   \n",
       "2               398               187               34   5000000-10000000   \n",
       "3               267               258              184   5000000-10000000   \n",
       "4               288               624              415   5000000-10000000   \n",
       "\n",
       "   price                                  short_description  \n",
       "0   7.19  Play the world's number 1 online action game. ...  \n",
       "1   3.99  One of the most popular online action games of...  \n",
       "2   3.99  Enlist in an intense brand of Axis vs. Allied ...  \n",
       "3   3.99  Enjoy fast-paced multiplayer gaming with Death...  \n",
       "4   3.99  Return to the Black Mesa Research Facility as ...  "
      ]
     },
     "execution_count": 142,
     "metadata": {},
     "output_type": "execute_result"
    }
   ],
   "source": [
    "# merging steam data and description\n",
    "steam_data = steam_data.merge(\n",
    "    descriptions, left_on='appid', right_on='steam_appid', how=\"left\")\n",
    "steam_data = steam_data.drop([\"steam_appid\", \"detailed_description\", \"about_the_game\"], axis=1)\n",
    "steam_data.head()\n"
   ]
  },
  {
   "cell_type": "code",
   "execution_count": 143,
   "metadata": {},
   "outputs": [],
   "source": [
    "steam_data[\"steamspy_tags\"] = steam_data[\"steamspy_tags\"].apply(lambda x: x.split(\";\"))\n",
    "steam_data[\"genres\"] = steam_data[\"genres\"].apply(lambda x: x.split(\";\"))\n",
    "steam_data[\"categories\"] = steam_data[\"categories\"].apply(lambda x: x.split(\";\"))\n",
    "steam_data[\"platforms\"] = steam_data[\"platforms\"].apply(lambda x: x.split(\";\"))"
   ]
  },
  {
   "cell_type": "code",
   "execution_count": 144,
   "metadata": {},
   "outputs": [],
   "source": [
    "def create_word_soup(x):\n",
    "    return ' '.join(x['steamspy_tags']) + ' ' + ' '.join(x['genres']) + ' ' + ' '.join(x['categories']) + ' ' + ' '.join(x['steamspy_tags'])\n",
    "\n",
    "steam_data['soup'] = steam_data.apply(create_word_soup, axis=1)\n",
    "# steam_data['soup'].head()"
   ]
  },
  {
   "cell_type": "code",
   "execution_count": 145,
   "metadata": {},
   "outputs": [],
   "source": [
    "def create_word_soup2(x):\n",
    "    return ' '.join(x['steamspy_tags']) + ' ' + ' '.join(x['genres']) + ' ' + ' '.join(x['categories']) + ' ' + ' '.join(x['steamspy_tags']) + x['short_description']\n",
    "\n",
    "steam_data['soup2'] = steam_data.apply(create_word_soup2, axis=1)\n",
    "# steam_data['soup2'].head()"
   ]
  },
  {
   "cell_type": "code",
   "execution_count": 146,
   "metadata": {},
   "outputs": [],
   "source": [
    "count = CountVectorizer(stop_words='english')\n",
    "count_matrix = count.fit_transform(steam_data['soup'])"
   ]
  },
  {
   "cell_type": "code",
   "execution_count": 147,
   "metadata": {},
   "outputs": [],
   "source": [
    "count2 = CountVectorizer(stop_words='english')\n",
    "count_matrix2 = count.fit_transform(steam_data['soup2'])"
   ]
  },
  {
   "cell_type": "code",
   "execution_count": 148,
   "metadata": {},
   "outputs": [],
   "source": [
    "cosine_sim = cosine_similarity(count_matrix, count_matrix)"
   ]
  },
  {
   "cell_type": "code",
   "execution_count": 149,
   "metadata": {},
   "outputs": [],
   "source": [
    "cosine_sim2 = cosine_similarity(count_matrix2, count_matrix2)"
   ]
  },
  {
   "cell_type": "code",
   "execution_count": 150,
   "metadata": {},
   "outputs": [],
   "source": [
    "indices = pd.Series(steam_data.index, index=steam_data['name']).drop_duplicates()\n",
    "# Function that takes in game title as input and outputs most similar games\n",
    "def get_recommendations(name, cosine_sim):\n",
    "    # Get the index of the game that matches the title\n",
    "    idx = indices[name]\n",
    "\n",
    "    # Get the pairwsie similarity scores of all games with that game\n",
    "    sim_scores = list(enumerate(cosine_sim[idx]))\n",
    "\n",
    "    # Sort the games based on the similarity scores\n",
    "    sim_scores = sorted(sim_scores, key=lambda x: x[1], reverse=True)\n",
    "\n",
    "    # Get the scores of the 10 most similar games\n",
    "    sim_scores = sim_scores[1:11]\n",
    "    print(sim_scores)\n",
    "\n",
    "    # Get the game indices\n",
    "    game_indices = [i[0] for i in sim_scores]\n",
    "\n",
    "    # Return the top 10 most similar games\n",
    "    return steam_data['name'].iloc[game_indices]"
   ]
  },
  {
   "cell_type": "code",
   "execution_count": 151,
   "metadata": {},
   "outputs": [
    {
     "name": "stdout",
     "output_type": "stream",
     "text": [
      "[(2790, 0.8923543557893898), (10173, 0.8777074514725111), (15945, 0.8713548411865621), (16712, 0.8682692973566163), (9522, 0.8620450644378708), (14947, 0.8581278705797843), (8176, 0.8542821429703303), (13045, 0.8535375789847595), (2213, 0.8505172717997148), (11062, 0.8505172717997148)]\n"
     ]
    },
    {
     "data": {
      "text/plain": [
       "2790                Gang Beasts\n",
       "10173               Party Panic\n",
       "15945     Stick Fight: The Game\n",
       "16712                Treadnauts\n",
       "9522                 Antisphere\n",
       "14947    Blast Zone! Tournament\n",
       "8176               Nova Nukers!\n",
       "13045            A Gummy's Life\n",
       "2213                 Trench Run\n",
       "11062                bob's game\n",
       "Name: name, dtype: object"
      ]
     },
     "execution_count": 151,
     "metadata": {},
     "output_type": "execute_result"
    }
   ],
   "source": [
    "get_recommendations('Pummel Party', cosine_sim)"
   ]
  },
  {
   "cell_type": "code",
   "execution_count": 152,
   "metadata": {},
   "outputs": [
    {
     "name": "stdout",
     "output_type": "stream",
     "text": [
      "[(15945, 0.9526510164590817), (23044, 0.8923543557893898), (13045, 0.8452797012702454), (12830, 0.8410098180364367), (2273, 0.8210359504049012), (13987, 0.7940608497831195), (6360, 0.7907736701585485), (7968, 0.7842934903910448), (11257, 0.781555172954599), (11920, 0.781418064808807)]\n"
     ]
    },
    {
     "data": {
      "text/plain": [
       "15945    Stick Fight: The Game\n",
       "23044             Pummel Party\n",
       "13045           A Gummy's Life\n",
       "12830          Killer Instinct\n",
       "2273                  Brawlout\n",
       "13987            Fight of Gods\n",
       "6360                  TEKKEN 7\n",
       "7968             Tricky Towers\n",
       "11257                Nidhogg 2\n",
       "11920                  iFactor\n",
       "Name: name, dtype: object"
      ]
     },
     "execution_count": 152,
     "metadata": {},
     "output_type": "execute_result"
    }
   ],
   "source": [
    "get_recommendations('Gang Beasts', cosine_sim)"
   ]
  },
  {
   "cell_type": "code",
   "execution_count": 153,
   "metadata": {},
   "outputs": [
    {
     "name": "stdout",
     "output_type": "stream",
     "text": [
      "[(6637, 0.9379580992210835), (13880, 0.921274161965211), (19438, 0.9211323729436766), (4145, 0.9135215856578669), (8082, 0.8822499905394766), (5733, 0.8350361390594742), (6267, 0.8288677412448127), (7968, 0.8257228238447702), (22532, 0.8115799976738934), (4929, 0.8114441191120669)]\n"
     ]
    },
    {
     "data": {
      "text/plain": [
       "6637     The Jackbox Party Pack 2\n",
       "13880    The Jackbox Party Pack 4\n",
       "19438    The Jackbox Party Pack 5\n",
       "4145       The Jackbox Party Pack\n",
       "8082                    Drawful 2\n",
       "5733                     Collider\n",
       "6267       Ultimate Chicken Horse\n",
       "7968                Tricky Towers\n",
       "22532                Octo Gravity\n",
       "4929                     Quiplash\n",
       "Name: name, dtype: object"
      ]
     },
     "execution_count": 153,
     "metadata": {},
     "output_type": "execute_result"
    }
   ],
   "source": [
    "get_recommendations('The Jackbox Party Pack 3', cosine_sim)"
   ]
  },
  {
   "cell_type": "code",
   "execution_count": 154,
   "metadata": {},
   "outputs": [
    {
     "name": "stdout",
     "output_type": "stream",
     "text": [
      "[(6637, 0.7402261699026156), (13880, 0.7019641181630338), (4145, 0.6903101044658569), (19438, 0.6774585199504609), (5733, 0.6702249023263117), (4929, 0.6677611507863381), (8082, 0.6444372938919803), (6267, 0.6420578831241024), (3910, 0.6378471563450057), (8313, 0.6178846610861454)]\n"
     ]
    },
    {
     "data": {
      "text/plain": [
       "6637     The Jackbox Party Pack 2\n",
       "13880    The Jackbox Party Pack 4\n",
       "4145       The Jackbox Party Pack\n",
       "19438    The Jackbox Party Pack 5\n",
       "5733                     Collider\n",
       "4929                     Quiplash\n",
       "8082                    Drawful 2\n",
       "6267       Ultimate Chicken Horse\n",
       "3910                  Move or Die\n",
       "8313                   Overcooked\n",
       "Name: name, dtype: object"
      ]
     },
     "execution_count": 154,
     "metadata": {},
     "output_type": "execute_result"
    }
   ],
   "source": [
    "get_recommendations('The Jackbox Party Pack 3', cosine_sim2)"
   ]
  },
  {
   "cell_type": "code",
   "execution_count": 155,
   "metadata": {},
   "outputs": [
    {
     "name": "stdout",
     "output_type": "stream",
     "text": [
      "[(2790, 0.9526510164590817), (23044, 0.8713548411865621), (13045, 0.8200902402027264), (13935, 0.8139142743514403), (11257, 0.8003905296791063), (20979, 0.8002216987710566), (12830, 0.7997581636151854), (2273, 0.7859865188952451), (2213, 0.7808688094430304), (11062, 0.7808688094430304)]\n"
     ]
    },
    {
     "data": {
      "text/plain": [
       "2790         Gang Beasts\n",
       "23044       Pummel Party\n",
       "13045     A Gummy's Life\n",
       "13935      Galactic Feud\n",
       "11257          Nidhogg 2\n",
       "20979         Indie Pogo\n",
       "12830    Killer Instinct\n",
       "2273            Brawlout\n",
       "2213          Trench Run\n",
       "11062         bob's game\n",
       "Name: name, dtype: object"
      ]
     },
     "execution_count": 155,
     "metadata": {},
     "output_type": "execute_result"
    }
   ],
   "source": [
    "get_recommendations('Stick Fight: The Game', cosine_sim)"
   ]
  },
  {
   "cell_type": "code",
   "execution_count": 156,
   "metadata": {},
   "outputs": [
    {
     "name": "stdout",
     "output_type": "stream",
     "text": [
      "[(2790, 0.7064384832625399), (2273, 0.6841280502097695), (23044, 0.6730032754681021), (8176, 0.6475491523429101), (25999, 0.635601624934079), (16632, 0.6312924116892464), (16468, 0.6287722828196262), (14845, 0.6270696725795355), (2213, 0.6251131014931268), (17988, 0.6218743352054218)]\n"
     ]
    },
    {
     "data": {
      "text/plain": [
       "2790          Gang Beasts\n",
       "2273             Brawlout\n",
       "23044        Pummel Party\n",
       "8176         Nova Nukers!\n",
       "25999       Hyper Scuffle\n",
       "16632               Bomsy\n",
       "16468      TETRUX: Online\n",
       "14845           Mind Maze\n",
       "2213           Trench Run\n",
       "17988    OneScreen Wagons\n",
       "Name: name, dtype: object"
      ]
     },
     "execution_count": 156,
     "metadata": {},
     "output_type": "execute_result"
    }
   ],
   "source": [
    "get_recommendations('Stick Fight: The Game', cosine_sim2)"
   ]
  },
  {
   "cell_type": "code",
   "execution_count": 157,
   "metadata": {},
   "outputs": [
    {
     "name": "stdout",
     "output_type": "stream",
     "text": [
      "[(5817, 0.8128970193249392), (1728, 0.7816317493509031), (4269, 0.7816317493509031), (3494, 0.7405316311773545), (7792, 0.7121283463642097), (11020, 0.7096774193548389), (17496, 0.7003892132633235), (22914, 0.6985006985010478), (9409, 0.697389673941405), (16653, 0.697389673941405)]\n"
     ]
    },
    {
     "data": {
      "text/plain": [
       "5817                               DARK SOULS™ III\n",
       "1728                                DARK SOULS™ II\n",
       "4269      DARK SOULS™ II: Scholar of the First Sin\n",
       "3494                     Man in a Maze: Deathmatch\n",
       "7792                               INFERNO CLIMBER\n",
       "11020                                       Twixel\n",
       "17496    Robbie Swifthand and the Orb of Mysteries\n",
       "22914                                 Gravity Wars\n",
       "9409                    Radical Spectrum: Volume 1\n",
       "16653                               カニマン VS メカモンキー\n",
       "Name: name, dtype: object"
      ]
     },
     "execution_count": 157,
     "metadata": {},
     "output_type": "execute_result"
    }
   ],
   "source": [
    "get_recommendations('DARK SOULS™: REMASTERED', cosine_sim)"
   ]
  },
  {
   "cell_type": "code",
   "execution_count": 158,
   "metadata": {},
   "outputs": [
    {
     "name": "stdout",
     "output_type": "stream",
     "text": [
      "[(5817, 0.6520559380992673), (1728, 0.4975654595302164), (4269, 0.4963405699433595), (11608, 0.44930322168099346), (15096, 0.44713597446396586), (8658, 0.44708976506826115), (11020, 0.44529362639576414), (26009, 0.4451741005242254), (22689, 0.4441026811597043), (20332, 0.441860465116279)]\n"
     ]
    },
    {
     "data": {
      "text/plain": [
       "5817                              DARK SOULS™ III\n",
       "1728                               DARK SOULS™ II\n",
       "4269     DARK SOULS™ II: Scholar of the First Sin\n",
       "11608                                   Rise High\n",
       "15096                               Rival Megagun\n",
       "8658                                  Audio Arena\n",
       "11020                                      Twixel\n",
       "26009                         Ninja Power Slasher\n",
       "22689                                   Jumponaut\n",
       "20332                                 Drill Arena\n",
       "Name: name, dtype: object"
      ]
     },
     "execution_count": 158,
     "metadata": {},
     "output_type": "execute_result"
    }
   ],
   "source": [
    "get_recommendations('DARK SOULS™: REMASTERED', cosine_sim2)"
   ]
  },
  {
   "cell_type": "code",
   "execution_count": 159,
   "metadata": {},
   "outputs": [
    {
     "name": "stdout",
     "output_type": "stream",
     "text": [
      "[(1022, 0.858395075278952), (1907, 0.7994108773089584), (16277, 0.7857142857142855), (7853, 0.756534415836003), (2055, 0.747017880833996), (1856, 0.7442790926669612), (1961, 0.7290148043997553), (9084, 0.7127864449672372), (13028, 0.7071067811865475), (7325, 0.7027642214999336)]\n"
     ]
    },
    {
     "data": {
      "text/plain": [
       "1022        Sonic Generations Collection\n",
       "1907                      Freedom Planet\n",
       "16277                               GRIS\n",
       "7853      Octahedron: Transfixed Edition\n",
       "2055            Shantae: Half-Genie Hero\n",
       "1856                Electronic Super Joy\n",
       "1961       Shovel Knight: Treasure Trove\n",
       "9084                   She Wants Me Dead\n",
       "13028                        Sonic Mania\n",
       "7325     Everybody's Gone to the Rapture\n",
       "Name: name, dtype: object"
      ]
     },
     "execution_count": 159,
     "metadata": {},
     "output_type": "execute_result"
    }
   ],
   "source": [
    "get_recommendations('Ori and the Blind Forest: Definitive Edition', cosine_sim)"
   ]
  },
  {
   "cell_type": "code",
   "execution_count": 160,
   "metadata": {},
   "outputs": [
    {
     "name": "stdout",
     "output_type": "stream",
     "text": [
      "[(1022, 0.6200000000000001), (1256, 0.6046918007655169), (8532, 0.5982243228301002), (7853, 0.5806832031806504), (6386, 0.5570860145311556), (14453, 0.5530083017624435), (13638, 0.5432197707173825), (1907, 0.5370760693098809), (3859, 0.5366563145999496), (5532, 0.531843156256751)]\n"
     ]
    },
    {
     "data": {
      "text/plain": [
       "1022                 Sonic Generations Collection\n",
       "1256          Hell Yeah! Wrath of the Dead Rabbit\n",
       "8532                               Dungeon Escape\n",
       "7853               Octahedron: Transfixed Edition\n",
       "6386                               Circa Infinity\n",
       "14453                             GODS Remastered\n",
       "13638                   Spark the Electric Jester\n",
       "1907                               Freedom Planet\n",
       "3859                                Geometry Dash\n",
       "5532     Mighty Switch Force! Hyper Drive Edition\n",
       "Name: name, dtype: object"
      ]
     },
     "execution_count": 160,
     "metadata": {},
     "output_type": "execute_result"
    }
   ],
   "source": [
    "get_recommendations('Ori and the Blind Forest: Definitive Edition', cosine_sim2)"
   ]
  },
  {
   "cell_type": "code",
   "execution_count": 161,
   "metadata": {},
   "outputs": [
    {
     "name": "stdout",
     "output_type": "stream",
     "text": [
      "[(1164, 0.8773190096473715), (2117, 0.8374357893586237), (5144, 0.8371213775625376), (10111, 0.8229511997978236), (2283, 0.8193365776101956), (7853, 0.8153742483272113), (4159, 0.814173684098662), (1856, 0.8102684458914187), (1907, 0.8102684458914187), (7399, 0.8050764858994133)]\n"
     ]
    },
    {
     "data": {
      "text/plain": [
       "1164                             Owlboy\n",
       "2117                Hyper Light Drifter\n",
       "5144                           UBERMOSH\n",
       "10111                           Celeste\n",
       "2283                Out There Somewhere\n",
       "7853     Octahedron: Transfixed Edition\n",
       "4159                        Axiom Verge\n",
       "1856               Electronic Super Joy\n",
       "1907                     Freedom Planet\n",
       "7399                            OneShot\n",
       "Name: name, dtype: object"
      ]
     },
     "execution_count": 161,
     "metadata": {},
     "output_type": "execute_result"
    }
   ],
   "source": [
    "get_recommendations('Shovel Knight: Treasure Trove', cosine_sim)"
   ]
  },
  {
   "cell_type": "code",
   "execution_count": 162,
   "metadata": {},
   "outputs": [
    {
     "name": "stdout",
     "output_type": "stream",
     "text": [
      "[(8532, 0.6643253535510508), (4159, 0.635641726163728), (1164, 0.627181507505318), (2117, 0.6266795614405122), (2844, 0.6212607441973953), (4872, 0.6151571584870339), (10241, 0.6141131705360954), (2283, 0.6096727644937043), (5144, 0.6055300708194984), (10081, 0.597440149249054)]\n"
     ]
    },
    {
     "data": {
      "text/plain": [
       "8532                  Dungeon Escape\n",
       "4159                     Axiom Verge\n",
       "1164                          Owlboy\n",
       "2117             Hyper Light Drifter\n",
       "2844                  8-Bit Commando\n",
       "4872     Environmental Station Alpha\n",
       "10241                   Broken Armor\n",
       "2283             Out There Somewhere\n",
       "5144                        UBERMOSH\n",
       "10081              Mahluk:Dark Demon\n",
       "Name: name, dtype: object"
      ]
     },
     "execution_count": 162,
     "metadata": {},
     "output_type": "execute_result"
    }
   ],
   "source": [
    "get_recommendations('Shovel Knight: Treasure Trove', cosine_sim2)"
   ]
  },
  {
   "cell_type": "code",
   "execution_count": 163,
   "metadata": {},
   "outputs": [
    {
     "name": "stdout",
     "output_type": "stream",
     "text": [
      "[(14553, 0.9057207530583754), (17882, 0.8947970182602926), (14184, 0.8874643948402557), (1937, 0.8713951676862342), (14021, 0.8683095742273969), (11731, 0.8621054497285195), (11894, 0.8621054497285195), (9094, 0.8488789863689401), (24116, 0.848781542875952), (12628, 0.8443749514233463)]\n"
     ]
    },
    {
     "data": {
      "text/plain": [
       "14553      DERU - The Art of Cooperation\n",
       "17882                      Overcooked! 2\n",
       "14184                      Boss Defiance\n",
       "1937     FORCED: Slightly Better Edition\n",
       "14021                    Deadbeat Heroes\n",
       "11731                     Iron Crypticle\n",
       "11894                    Theatre of Doom\n",
       "9094                         Speed Brawl\n",
       "24116                      Survival Ball\n",
       "12628              Think of the Children\n",
       "Name: name, dtype: object"
      ]
     },
     "execution_count": 163,
     "metadata": {},
     "output_type": "execute_result"
    }
   ],
   "source": [
    "get_recommendations('Overcooked', cosine_sim)"
   ]
  },
  {
   "cell_type": "code",
   "execution_count": 164,
   "metadata": {},
   "outputs": [
    {
     "name": "stdout",
     "output_type": "stream",
     "text": [
      "[(17882, 0.7801526932627854), (14553, 0.7471152076463955), (2001, 0.7408239055248218), (24116, 0.7337890780140998), (1937, 0.7232769354416847), (1072, 0.7185496352100393), (16770, 0.7113997097327195), (6267, 0.7060630805716388), (11731, 0.7053852598580456), (24026, 0.7019833503201401)]\n"
     ]
    },
    {
     "data": {
      "text/plain": [
       "17882                      Overcooked! 2\n",
       "14553      DERU - The Art of Cooperation\n",
       "2001     Lovers in a Dangerous Spacetime\n",
       "24116                      Survival Ball\n",
       "1937     FORCED: Slightly Better Edition\n",
       "1072                           ibb & obb\n",
       "16770                       Jump Gunners\n",
       "6267              Ultimate Chicken Horse\n",
       "11731                     Iron Crypticle\n",
       "24026                           Polygone\n",
       "Name: name, dtype: object"
      ]
     },
     "execution_count": 164,
     "metadata": {},
     "output_type": "execute_result"
    }
   ],
   "source": [
    "get_recommendations('Overcooked', cosine_sim2)"
   ]
  },
  {
   "cell_type": "markdown",
   "metadata": {},
   "source": [
    "After looking at both results, they both seem like they give good results after comparing them with recommendations from steam. \n",
    "\n",
    "Also, we see that the count vectorizor which took into consideration the description had less similar values, which is expected since the dimensionality is higher. However, we can also see that by adding the description, sequels or prequels of games are almost always at the top (since they will have similar descriptions) and this might not always be desirable. This is because someone who has played a game, for e.g Jackbox 2, would most likely know about the sequels, so they don't really need to be recommended that game. \n",
    "\n",
    "Therefore, it looks like count vectorization without the short description yields better results"
   ]
  }
 ],
 "metadata": {
  "interpreter": {
   "hash": "38a81db086d2ba7718585c8c5987e205853e5f5d32da9e20516598ae4cd88c25"
  },
  "kernelspec": {
   "display_name": "Python 3.8.8 64-bit ('base': conda)",
   "language": "python",
   "name": "python3"
  },
  "language_info": {
   "codemirror_mode": {
    "name": "ipython",
    "version": 3
   },
   "file_extension": ".py",
   "mimetype": "text/x-python",
   "name": "python",
   "nbconvert_exporter": "python",
   "pygments_lexer": "ipython3",
   "version": "3.8.8"
  },
  "orig_nbformat": 4
 },
 "nbformat": 4,
 "nbformat_minor": 2
}
