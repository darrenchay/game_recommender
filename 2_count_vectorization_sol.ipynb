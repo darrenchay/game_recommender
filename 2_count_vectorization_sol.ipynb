{
 "cells": [
  {
   "cell_type": "markdown",
   "metadata": {},
   "source": [
    "### Training Model using Count Vectorization"
   ]
  },
  {
   "cell_type": "code",
   "execution_count": 79,
   "metadata": {},
   "outputs": [],
   "source": [
    "# Importing libraries\n",
    "import numpy as np\n",
    "import pandas as pd\n",
    "import matplotlib.pyplot as plt\n",
    "import seaborn as sns; sns.set()\n",
    "\n",
    "# Import CountVectorizer and create the count matrix\n",
    "from sklearn.feature_extraction.text import CountVectorizer\n",
    "# Compute the Cosine Similarity matrix based on the count_matrix\n",
    "from sklearn.metrics.pairwise import cosine_similarity\n",
    "\n",
    "import math"
   ]
  },
  {
   "cell_type": "code",
   "execution_count": 3,
   "metadata": {},
   "outputs": [],
   "source": [
    "# Loading data\n",
    "steam_data = pd.read_csv('Datasets/steam.csv')\n",
    "descriptions = pd.read_csv('Datasets/steam_description_data.csv')"
   ]
  },
  {
   "cell_type": "code",
   "execution_count": 4,
   "metadata": {},
   "outputs": [
    {
     "data": {
      "text/html": [
       "<div>\n",
       "<style scoped>\n",
       "    .dataframe tbody tr th:only-of-type {\n",
       "        vertical-align: middle;\n",
       "    }\n",
       "\n",
       "    .dataframe tbody tr th {\n",
       "        vertical-align: top;\n",
       "    }\n",
       "\n",
       "    .dataframe thead th {\n",
       "        text-align: right;\n",
       "    }\n",
       "</style>\n",
       "<table border=\"1\" class=\"dataframe\">\n",
       "  <thead>\n",
       "    <tr style=\"text-align: right;\">\n",
       "      <th></th>\n",
       "      <th>appid</th>\n",
       "      <th>name</th>\n",
       "      <th>release_date</th>\n",
       "      <th>english</th>\n",
       "      <th>developer</th>\n",
       "      <th>publisher</th>\n",
       "      <th>platforms</th>\n",
       "      <th>required_age</th>\n",
       "      <th>categories</th>\n",
       "      <th>genres</th>\n",
       "      <th>steamspy_tags</th>\n",
       "      <th>achievements</th>\n",
       "      <th>positive_ratings</th>\n",
       "      <th>negative_ratings</th>\n",
       "      <th>average_playtime</th>\n",
       "      <th>median_playtime</th>\n",
       "      <th>owners</th>\n",
       "      <th>price</th>\n",
       "      <th>short_description</th>\n",
       "    </tr>\n",
       "  </thead>\n",
       "  <tbody>\n",
       "    <tr>\n",
       "      <th>0</th>\n",
       "      <td>10</td>\n",
       "      <td>Counter-Strike</td>\n",
       "      <td>2000-11-01</td>\n",
       "      <td>1</td>\n",
       "      <td>Valve</td>\n",
       "      <td>Valve</td>\n",
       "      <td>windows;mac;linux</td>\n",
       "      <td>0</td>\n",
       "      <td>Multi-player;Online Multi-Player;Local Multi-P...</td>\n",
       "      <td>Action</td>\n",
       "      <td>Action;FPS;Multiplayer</td>\n",
       "      <td>0</td>\n",
       "      <td>124534</td>\n",
       "      <td>3339</td>\n",
       "      <td>17612</td>\n",
       "      <td>317</td>\n",
       "      <td>10000000-20000000</td>\n",
       "      <td>7.19</td>\n",
       "      <td>Play the world's number 1 online action game. ...</td>\n",
       "    </tr>\n",
       "    <tr>\n",
       "      <th>1</th>\n",
       "      <td>20</td>\n",
       "      <td>Team Fortress Classic</td>\n",
       "      <td>1999-04-01</td>\n",
       "      <td>1</td>\n",
       "      <td>Valve</td>\n",
       "      <td>Valve</td>\n",
       "      <td>windows;mac;linux</td>\n",
       "      <td>0</td>\n",
       "      <td>Multi-player;Online Multi-Player;Local Multi-P...</td>\n",
       "      <td>Action</td>\n",
       "      <td>Action;FPS;Multiplayer</td>\n",
       "      <td>0</td>\n",
       "      <td>3318</td>\n",
       "      <td>633</td>\n",
       "      <td>277</td>\n",
       "      <td>62</td>\n",
       "      <td>5000000-10000000</td>\n",
       "      <td>3.99</td>\n",
       "      <td>One of the most popular online action games of...</td>\n",
       "    </tr>\n",
       "    <tr>\n",
       "      <th>2</th>\n",
       "      <td>30</td>\n",
       "      <td>Day of Defeat</td>\n",
       "      <td>2003-05-01</td>\n",
       "      <td>1</td>\n",
       "      <td>Valve</td>\n",
       "      <td>Valve</td>\n",
       "      <td>windows;mac;linux</td>\n",
       "      <td>0</td>\n",
       "      <td>Multi-player;Valve Anti-Cheat enabled</td>\n",
       "      <td>Action</td>\n",
       "      <td>FPS;World War II;Multiplayer</td>\n",
       "      <td>0</td>\n",
       "      <td>3416</td>\n",
       "      <td>398</td>\n",
       "      <td>187</td>\n",
       "      <td>34</td>\n",
       "      <td>5000000-10000000</td>\n",
       "      <td>3.99</td>\n",
       "      <td>Enlist in an intense brand of Axis vs. Allied ...</td>\n",
       "    </tr>\n",
       "    <tr>\n",
       "      <th>3</th>\n",
       "      <td>40</td>\n",
       "      <td>Deathmatch Classic</td>\n",
       "      <td>2001-06-01</td>\n",
       "      <td>1</td>\n",
       "      <td>Valve</td>\n",
       "      <td>Valve</td>\n",
       "      <td>windows;mac;linux</td>\n",
       "      <td>0</td>\n",
       "      <td>Multi-player;Online Multi-Player;Local Multi-P...</td>\n",
       "      <td>Action</td>\n",
       "      <td>Action;FPS;Multiplayer</td>\n",
       "      <td>0</td>\n",
       "      <td>1273</td>\n",
       "      <td>267</td>\n",
       "      <td>258</td>\n",
       "      <td>184</td>\n",
       "      <td>5000000-10000000</td>\n",
       "      <td>3.99</td>\n",
       "      <td>Enjoy fast-paced multiplayer gaming with Death...</td>\n",
       "    </tr>\n",
       "    <tr>\n",
       "      <th>4</th>\n",
       "      <td>50</td>\n",
       "      <td>Half-Life: Opposing Force</td>\n",
       "      <td>1999-11-01</td>\n",
       "      <td>1</td>\n",
       "      <td>Gearbox Software</td>\n",
       "      <td>Valve</td>\n",
       "      <td>windows;mac;linux</td>\n",
       "      <td>0</td>\n",
       "      <td>Single-player;Multi-player;Valve Anti-Cheat en...</td>\n",
       "      <td>Action</td>\n",
       "      <td>FPS;Action;Sci-fi</td>\n",
       "      <td>0</td>\n",
       "      <td>5250</td>\n",
       "      <td>288</td>\n",
       "      <td>624</td>\n",
       "      <td>415</td>\n",
       "      <td>5000000-10000000</td>\n",
       "      <td>3.99</td>\n",
       "      <td>Return to the Black Mesa Research Facility as ...</td>\n",
       "    </tr>\n",
       "  </tbody>\n",
       "</table>\n",
       "</div>"
      ],
      "text/plain": [
       "   appid                       name release_date  english         developer  \\\n",
       "0     10             Counter-Strike   2000-11-01        1             Valve   \n",
       "1     20      Team Fortress Classic   1999-04-01        1             Valve   \n",
       "2     30              Day of Defeat   2003-05-01        1             Valve   \n",
       "3     40         Deathmatch Classic   2001-06-01        1             Valve   \n",
       "4     50  Half-Life: Opposing Force   1999-11-01        1  Gearbox Software   \n",
       "\n",
       "  publisher          platforms  required_age  \\\n",
       "0     Valve  windows;mac;linux             0   \n",
       "1     Valve  windows;mac;linux             0   \n",
       "2     Valve  windows;mac;linux             0   \n",
       "3     Valve  windows;mac;linux             0   \n",
       "4     Valve  windows;mac;linux             0   \n",
       "\n",
       "                                          categories  genres  \\\n",
       "0  Multi-player;Online Multi-Player;Local Multi-P...  Action   \n",
       "1  Multi-player;Online Multi-Player;Local Multi-P...  Action   \n",
       "2              Multi-player;Valve Anti-Cheat enabled  Action   \n",
       "3  Multi-player;Online Multi-Player;Local Multi-P...  Action   \n",
       "4  Single-player;Multi-player;Valve Anti-Cheat en...  Action   \n",
       "\n",
       "                  steamspy_tags  achievements  positive_ratings  \\\n",
       "0        Action;FPS;Multiplayer             0            124534   \n",
       "1        Action;FPS;Multiplayer             0              3318   \n",
       "2  FPS;World War II;Multiplayer             0              3416   \n",
       "3        Action;FPS;Multiplayer             0              1273   \n",
       "4             FPS;Action;Sci-fi             0              5250   \n",
       "\n",
       "   negative_ratings  average_playtime  median_playtime             owners  \\\n",
       "0              3339             17612              317  10000000-20000000   \n",
       "1               633               277               62   5000000-10000000   \n",
       "2               398               187               34   5000000-10000000   \n",
       "3               267               258              184   5000000-10000000   \n",
       "4               288               624              415   5000000-10000000   \n",
       "\n",
       "   price                                  short_description  \n",
       "0   7.19  Play the world's number 1 online action game. ...  \n",
       "1   3.99  One of the most popular online action games of...  \n",
       "2   3.99  Enlist in an intense brand of Axis vs. Allied ...  \n",
       "3   3.99  Enjoy fast-paced multiplayer gaming with Death...  \n",
       "4   3.99  Return to the Black Mesa Research Facility as ...  "
      ]
     },
     "execution_count": 4,
     "metadata": {},
     "output_type": "execute_result"
    }
   ],
   "source": [
    "# merging steam data and description\n",
    "steam_data = steam_data.merge(\n",
    "    descriptions, left_on='appid', right_on='steam_appid', how=\"left\")\n",
    "steam_data = steam_data.drop([\"steam_appid\", \"detailed_description\", \"about_the_game\"], axis=1)\n",
    "steam_data.head()\n"
   ]
  },
  {
   "cell_type": "code",
   "execution_count": 5,
   "metadata": {},
   "outputs": [],
   "source": [
    "steam_data[\"steamspy_tags\"] = steam_data[\"steamspy_tags\"].apply(lambda x: x.split(\";\"))\n",
    "steam_data[\"genres\"] = steam_data[\"genres\"].apply(lambda x: x.split(\";\"))\n",
    "steam_data[\"categories\"] = steam_data[\"categories\"].apply(lambda x: x.split(\";\"))\n",
    "steam_data[\"platforms\"] = steam_data[\"platforms\"].apply(lambda x: x.split(\";\"))"
   ]
  },
  {
   "cell_type": "code",
   "execution_count": 6,
   "metadata": {},
   "outputs": [],
   "source": [
    "def create_word_soup(x):\n",
    "    return ' '.join(x['steamspy_tags']) + ' ' + ' '.join(x['genres']) + ' ' + ' '.join(x['categories']) + ' ' + ' '.join(x['steamspy_tags'])\n",
    "\n",
    "steam_data['soup'] = steam_data.apply(create_word_soup, axis=1)\n",
    "# steam_data['soup'].head()"
   ]
  },
  {
   "cell_type": "code",
   "execution_count": 7,
   "metadata": {},
   "outputs": [],
   "source": [
    "def create_word_soup2(x):\n",
    "    return ' '.join(x['steamspy_tags']) + ' ' + ' '.join(x['genres']) + ' ' + ' '.join(x['categories']) + ' ' + ' '.join(x['steamspy_tags']) + x['short_description']\n",
    "\n",
    "steam_data['soup2'] = steam_data.apply(create_word_soup2, axis=1)\n",
    "# steam_data['soup2'].head()"
   ]
  },
  {
   "cell_type": "code",
   "execution_count": 8,
   "metadata": {},
   "outputs": [],
   "source": [
    "count = CountVectorizer(stop_words='english')\n",
    "count_matrix = count.fit_transform(steam_data['soup'])"
   ]
  },
  {
   "cell_type": "code",
   "execution_count": 9,
   "metadata": {},
   "outputs": [],
   "source": [
    "count2 = CountVectorizer(stop_words='english')\n",
    "count_matrix2 = count.fit_transform(steam_data['soup2'])"
   ]
  },
  {
   "cell_type": "code",
   "execution_count": 10,
   "metadata": {},
   "outputs": [],
   "source": [
    "cosine_sim = cosine_similarity(count_matrix, count_matrix)"
   ]
  },
  {
   "cell_type": "code",
   "execution_count": 11,
   "metadata": {},
   "outputs": [],
   "source": [
    "cosine_sim2 = cosine_similarity(count_matrix2, count_matrix2)"
   ]
  },
  {
   "cell_type": "code",
   "execution_count": 12,
   "metadata": {},
   "outputs": [],
   "source": [
    "indices = pd.Series(steam_data.index, index=steam_data['name']).drop_duplicates()\n",
    "# Function that takes in game title as input and outputs most similar games\n",
    "def get_recommendations(name, cosine_sim):\n",
    "    # Get the index of the game that matches the title\n",
    "    idx = indices[name]\n",
    "\n",
    "    # Get the pairwsie similarity scores of all games with that game\n",
    "    sim_scores = list(enumerate(cosine_sim[idx]))\n",
    "\n",
    "    # Sort the games based on the similarity scores\n",
    "    sim_scores = sorted(sim_scores, key=lambda x: x[1], reverse=True)\n",
    "\n",
    "    # Get the scores of the 10 most similar games\n",
    "    sim_scores = sim_scores[1:11]\n",
    "    print(sim_scores)\n",
    "\n",
    "    # Get the game indices\n",
    "    game_indices = [i[0] for i in sim_scores]\n",
    "\n",
    "    # Return the top 10 most similar games\n",
    "    return steam_data['name'].iloc[game_indices]"
   ]
  },
  {
   "cell_type": "code",
   "execution_count": 13,
   "metadata": {},
   "outputs": [
    {
     "name": "stdout",
     "output_type": "stream",
     "text": [
      "[(2790, 0.8923543557893898), (10173, 0.8777074514725111), (15945, 0.8713548411865621), (16712, 0.8682692973566163), (9522, 0.8620450644378708), (14947, 0.8581278705797843), (8176, 0.8542821429703303), (13045, 0.8535375789847595), (2213, 0.8505172717997148), (11062, 0.8505172717997148)]\n"
     ]
    },
    {
     "data": {
      "text/plain": [
       "2790                Gang Beasts\n",
       "10173               Party Panic\n",
       "15945     Stick Fight: The Game\n",
       "16712                Treadnauts\n",
       "9522                 Antisphere\n",
       "14947    Blast Zone! Tournament\n",
       "8176               Nova Nukers!\n",
       "13045            A Gummy's Life\n",
       "2213                 Trench Run\n",
       "11062                bob's game\n",
       "Name: name, dtype: object"
      ]
     },
     "execution_count": 13,
     "metadata": {},
     "output_type": "execute_result"
    }
   ],
   "source": [
    "get_recommendations('Pummel Party', cosine_sim)"
   ]
  },
  {
   "cell_type": "code",
   "execution_count": 14,
   "metadata": {},
   "outputs": [
    {
     "name": "stdout",
     "output_type": "stream",
     "text": [
      "[(15945, 0.9526510164590817), (23044, 0.8923543557893898), (13045, 0.8452797012702454), (12830, 0.8410098180364367), (2273, 0.8210359504049012), (13987, 0.7940608497831195), (6360, 0.7907736701585485), (7968, 0.7842934903910448), (11257, 0.781555172954599), (11920, 0.781418064808807)]\n"
     ]
    },
    {
     "data": {
      "text/plain": [
       "15945    Stick Fight: The Game\n",
       "23044             Pummel Party\n",
       "13045           A Gummy's Life\n",
       "12830          Killer Instinct\n",
       "2273                  Brawlout\n",
       "13987            Fight of Gods\n",
       "6360                  TEKKEN 7\n",
       "7968             Tricky Towers\n",
       "11257                Nidhogg 2\n",
       "11920                  iFactor\n",
       "Name: name, dtype: object"
      ]
     },
     "execution_count": 14,
     "metadata": {},
     "output_type": "execute_result"
    }
   ],
   "source": [
    "get_recommendations('Gang Beasts', cosine_sim)"
   ]
  },
  {
   "cell_type": "code",
   "execution_count": 15,
   "metadata": {},
   "outputs": [
    {
     "name": "stdout",
     "output_type": "stream",
     "text": [
      "[(6637, 0.9379580992210835), (13880, 0.921274161965211), (19438, 0.9211323729436766), (4145, 0.9135215856578669), (8082, 0.8822499905394766), (5733, 0.8350361390594742), (6267, 0.8288677412448127), (7968, 0.8257228238447702), (22532, 0.8115799976738934), (4929, 0.8114441191120669)]\n"
     ]
    },
    {
     "data": {
      "text/plain": [
       "6637     The Jackbox Party Pack 2\n",
       "13880    The Jackbox Party Pack 4\n",
       "19438    The Jackbox Party Pack 5\n",
       "4145       The Jackbox Party Pack\n",
       "8082                    Drawful 2\n",
       "5733                     Collider\n",
       "6267       Ultimate Chicken Horse\n",
       "7968                Tricky Towers\n",
       "22532                Octo Gravity\n",
       "4929                     Quiplash\n",
       "Name: name, dtype: object"
      ]
     },
     "execution_count": 15,
     "metadata": {},
     "output_type": "execute_result"
    }
   ],
   "source": [
    "get_recommendations('The Jackbox Party Pack 3', cosine_sim)"
   ]
  },
  {
   "cell_type": "code",
   "execution_count": 16,
   "metadata": {},
   "outputs": [
    {
     "name": "stdout",
     "output_type": "stream",
     "text": [
      "[(6637, 0.7402261699026156), (13880, 0.7019641181630338), (4145, 0.6903101044658569), (19438, 0.6774585199504609), (5733, 0.6702249023263117), (4929, 0.6677611507863381), (8082, 0.6444372938919803), (6267, 0.6420578831241024), (3910, 0.6378471563450057), (8313, 0.6178846610861454)]\n"
     ]
    },
    {
     "data": {
      "text/plain": [
       "6637     The Jackbox Party Pack 2\n",
       "13880    The Jackbox Party Pack 4\n",
       "4145       The Jackbox Party Pack\n",
       "19438    The Jackbox Party Pack 5\n",
       "5733                     Collider\n",
       "4929                     Quiplash\n",
       "8082                    Drawful 2\n",
       "6267       Ultimate Chicken Horse\n",
       "3910                  Move or Die\n",
       "8313                   Overcooked\n",
       "Name: name, dtype: object"
      ]
     },
     "execution_count": 16,
     "metadata": {},
     "output_type": "execute_result"
    }
   ],
   "source": [
    "get_recommendations('The Jackbox Party Pack 3', cosine_sim2)"
   ]
  },
  {
   "cell_type": "code",
   "execution_count": 17,
   "metadata": {},
   "outputs": [
    {
     "name": "stdout",
     "output_type": "stream",
     "text": [
      "[(2790, 0.9526510164590817), (23044, 0.8713548411865621), (13045, 0.8200902402027264), (13935, 0.8139142743514403), (11257, 0.8003905296791063), (20979, 0.8002216987710566), (12830, 0.7997581636151854), (2273, 0.7859865188952451), (2213, 0.7808688094430304), (11062, 0.7808688094430304)]\n"
     ]
    },
    {
     "data": {
      "text/plain": [
       "2790         Gang Beasts\n",
       "23044       Pummel Party\n",
       "13045     A Gummy's Life\n",
       "13935      Galactic Feud\n",
       "11257          Nidhogg 2\n",
       "20979         Indie Pogo\n",
       "12830    Killer Instinct\n",
       "2273            Brawlout\n",
       "2213          Trench Run\n",
       "11062         bob's game\n",
       "Name: name, dtype: object"
      ]
     },
     "execution_count": 17,
     "metadata": {},
     "output_type": "execute_result"
    }
   ],
   "source": [
    "get_recommendations('Stick Fight: The Game', cosine_sim)"
   ]
  },
  {
   "cell_type": "code",
   "execution_count": 18,
   "metadata": {},
   "outputs": [
    {
     "name": "stdout",
     "output_type": "stream",
     "text": [
      "[(2790, 0.7064384832625399), (2273, 0.6841280502097695), (23044, 0.6730032754681021), (8176, 0.6475491523429101), (25999, 0.635601624934079), (16632, 0.6312924116892464), (16468, 0.6287722828196262), (14845, 0.6270696725795355), (2213, 0.6251131014931268), (17988, 0.6218743352054218)]\n"
     ]
    },
    {
     "data": {
      "text/plain": [
       "2790          Gang Beasts\n",
       "2273             Brawlout\n",
       "23044        Pummel Party\n",
       "8176         Nova Nukers!\n",
       "25999       Hyper Scuffle\n",
       "16632               Bomsy\n",
       "16468      TETRUX: Online\n",
       "14845           Mind Maze\n",
       "2213           Trench Run\n",
       "17988    OneScreen Wagons\n",
       "Name: name, dtype: object"
      ]
     },
     "execution_count": 18,
     "metadata": {},
     "output_type": "execute_result"
    }
   ],
   "source": [
    "get_recommendations('Stick Fight: The Game', cosine_sim2)"
   ]
  },
  {
   "cell_type": "code",
   "execution_count": 19,
   "metadata": {},
   "outputs": [
    {
     "name": "stdout",
     "output_type": "stream",
     "text": [
      "[(5817, 0.8128970193249392), (1728, 0.7816317493509031), (4269, 0.7816317493509031), (3494, 0.7405316311773545), (7792, 0.7121283463642097), (11020, 0.7096774193548389), (17496, 0.7003892132633235), (22914, 0.6985006985010478), (9409, 0.697389673941405), (16653, 0.697389673941405)]\n"
     ]
    },
    {
     "data": {
      "text/plain": [
       "5817                               DARK SOULS™ III\n",
       "1728                                DARK SOULS™ II\n",
       "4269      DARK SOULS™ II: Scholar of the First Sin\n",
       "3494                     Man in a Maze: Deathmatch\n",
       "7792                               INFERNO CLIMBER\n",
       "11020                                       Twixel\n",
       "17496    Robbie Swifthand and the Orb of Mysteries\n",
       "22914                                 Gravity Wars\n",
       "9409                    Radical Spectrum: Volume 1\n",
       "16653                               カニマン VS メカモンキー\n",
       "Name: name, dtype: object"
      ]
     },
     "execution_count": 19,
     "metadata": {},
     "output_type": "execute_result"
    }
   ],
   "source": [
    "get_recommendations('DARK SOULS™: REMASTERED', cosine_sim)"
   ]
  },
  {
   "cell_type": "code",
   "execution_count": 20,
   "metadata": {},
   "outputs": [
    {
     "name": "stdout",
     "output_type": "stream",
     "text": [
      "[(5817, 0.6520559380992673), (1728, 0.4975654595302164), (4269, 0.4963405699433595), (11608, 0.44930322168099346), (15096, 0.44713597446396586), (8658, 0.44708976506826115), (11020, 0.44529362639576414), (26009, 0.4451741005242254), (22689, 0.4441026811597043), (20332, 0.441860465116279)]\n"
     ]
    },
    {
     "data": {
      "text/plain": [
       "5817                              DARK SOULS™ III\n",
       "1728                               DARK SOULS™ II\n",
       "4269     DARK SOULS™ II: Scholar of the First Sin\n",
       "11608                                   Rise High\n",
       "15096                               Rival Megagun\n",
       "8658                                  Audio Arena\n",
       "11020                                      Twixel\n",
       "26009                         Ninja Power Slasher\n",
       "22689                                   Jumponaut\n",
       "20332                                 Drill Arena\n",
       "Name: name, dtype: object"
      ]
     },
     "execution_count": 20,
     "metadata": {},
     "output_type": "execute_result"
    }
   ],
   "source": [
    "get_recommendations('DARK SOULS™: REMASTERED', cosine_sim2)"
   ]
  },
  {
   "cell_type": "code",
   "execution_count": 21,
   "metadata": {},
   "outputs": [
    {
     "name": "stdout",
     "output_type": "stream",
     "text": [
      "[(1022, 0.858395075278952), (1907, 0.7994108773089584), (16277, 0.7857142857142855), (7853, 0.756534415836003), (2055, 0.747017880833996), (1856, 0.7442790926669612), (1961, 0.7290148043997553), (9084, 0.7127864449672372), (13028, 0.7071067811865475), (7325, 0.7027642214999336)]\n"
     ]
    },
    {
     "data": {
      "text/plain": [
       "1022        Sonic Generations Collection\n",
       "1907                      Freedom Planet\n",
       "16277                               GRIS\n",
       "7853      Octahedron: Transfixed Edition\n",
       "2055            Shantae: Half-Genie Hero\n",
       "1856                Electronic Super Joy\n",
       "1961       Shovel Knight: Treasure Trove\n",
       "9084                   She Wants Me Dead\n",
       "13028                        Sonic Mania\n",
       "7325     Everybody's Gone to the Rapture\n",
       "Name: name, dtype: object"
      ]
     },
     "execution_count": 21,
     "metadata": {},
     "output_type": "execute_result"
    }
   ],
   "source": [
    "get_recommendations('Ori and the Blind Forest: Definitive Edition', cosine_sim)"
   ]
  },
  {
   "cell_type": "code",
   "execution_count": 22,
   "metadata": {},
   "outputs": [
    {
     "name": "stdout",
     "output_type": "stream",
     "text": [
      "[(1022, 0.6200000000000001), (1256, 0.6046918007655169), (8532, 0.5982243228301002), (7853, 0.5806832031806504), (6386, 0.5570860145311556), (14453, 0.5530083017624435), (13638, 0.5432197707173825), (1907, 0.5370760693098809), (3859, 0.5366563145999496), (5532, 0.531843156256751)]\n"
     ]
    },
    {
     "data": {
      "text/plain": [
       "1022                 Sonic Generations Collection\n",
       "1256          Hell Yeah! Wrath of the Dead Rabbit\n",
       "8532                               Dungeon Escape\n",
       "7853               Octahedron: Transfixed Edition\n",
       "6386                               Circa Infinity\n",
       "14453                             GODS Remastered\n",
       "13638                   Spark the Electric Jester\n",
       "1907                               Freedom Planet\n",
       "3859                                Geometry Dash\n",
       "5532     Mighty Switch Force! Hyper Drive Edition\n",
       "Name: name, dtype: object"
      ]
     },
     "execution_count": 22,
     "metadata": {},
     "output_type": "execute_result"
    }
   ],
   "source": [
    "get_recommendations('Ori and the Blind Forest: Definitive Edition', cosine_sim2)"
   ]
  },
  {
   "cell_type": "code",
   "execution_count": 23,
   "metadata": {},
   "outputs": [
    {
     "name": "stdout",
     "output_type": "stream",
     "text": [
      "[(1164, 0.8773190096473715), (2117, 0.8374357893586237), (5144, 0.8371213775625376), (10111, 0.8229511997978236), (2283, 0.8193365776101956), (7853, 0.8153742483272113), (4159, 0.814173684098662), (1856, 0.8102684458914187), (1907, 0.8102684458914187), (7399, 0.8050764858994133)]\n"
     ]
    },
    {
     "data": {
      "text/plain": [
       "1164                             Owlboy\n",
       "2117                Hyper Light Drifter\n",
       "5144                           UBERMOSH\n",
       "10111                           Celeste\n",
       "2283                Out There Somewhere\n",
       "7853     Octahedron: Transfixed Edition\n",
       "4159                        Axiom Verge\n",
       "1856               Electronic Super Joy\n",
       "1907                     Freedom Planet\n",
       "7399                            OneShot\n",
       "Name: name, dtype: object"
      ]
     },
     "execution_count": 23,
     "metadata": {},
     "output_type": "execute_result"
    }
   ],
   "source": [
    "get_recommendations('Shovel Knight: Treasure Trove', cosine_sim)"
   ]
  },
  {
   "cell_type": "code",
   "execution_count": 24,
   "metadata": {},
   "outputs": [
    {
     "name": "stdout",
     "output_type": "stream",
     "text": [
      "[(8532, 0.6643253535510508), (4159, 0.635641726163728), (1164, 0.627181507505318), (2117, 0.6266795614405122), (2844, 0.6212607441973953), (4872, 0.6151571584870339), (10241, 0.6141131705360954), (2283, 0.6096727644937043), (5144, 0.6055300708194984), (10081, 0.597440149249054)]\n"
     ]
    },
    {
     "data": {
      "text/plain": [
       "8532                  Dungeon Escape\n",
       "4159                     Axiom Verge\n",
       "1164                          Owlboy\n",
       "2117             Hyper Light Drifter\n",
       "2844                  8-Bit Commando\n",
       "4872     Environmental Station Alpha\n",
       "10241                   Broken Armor\n",
       "2283             Out There Somewhere\n",
       "5144                        UBERMOSH\n",
       "10081              Mahluk:Dark Demon\n",
       "Name: name, dtype: object"
      ]
     },
     "execution_count": 24,
     "metadata": {},
     "output_type": "execute_result"
    }
   ],
   "source": [
    "get_recommendations('Shovel Knight: Treasure Trove', cosine_sim2)"
   ]
  },
  {
   "cell_type": "code",
   "execution_count": 25,
   "metadata": {},
   "outputs": [
    {
     "name": "stdout",
     "output_type": "stream",
     "text": [
      "[(14553, 0.9057207530583754), (17882, 0.8947970182602926), (14184, 0.8874643948402557), (1937, 0.8713951676862342), (14021, 0.8683095742273969), (11731, 0.8621054497285195), (11894, 0.8621054497285195), (9094, 0.8488789863689401), (24116, 0.848781542875952), (12628, 0.8443749514233463)]\n"
     ]
    },
    {
     "data": {
      "text/plain": [
       "14553      DERU - The Art of Cooperation\n",
       "17882                      Overcooked! 2\n",
       "14184                      Boss Defiance\n",
       "1937     FORCED: Slightly Better Edition\n",
       "14021                    Deadbeat Heroes\n",
       "11731                     Iron Crypticle\n",
       "11894                    Theatre of Doom\n",
       "9094                         Speed Brawl\n",
       "24116                      Survival Ball\n",
       "12628              Think of the Children\n",
       "Name: name, dtype: object"
      ]
     },
     "execution_count": 25,
     "metadata": {},
     "output_type": "execute_result"
    }
   ],
   "source": [
    "get_recommendations('Overcooked', cosine_sim)"
   ]
  },
  {
   "cell_type": "code",
   "execution_count": 26,
   "metadata": {},
   "outputs": [
    {
     "name": "stdout",
     "output_type": "stream",
     "text": [
      "[(17882, 0.7801526932627854), (14553, 0.7471152076463955), (2001, 0.7408239055248218), (24116, 0.7337890780140998), (1937, 0.7232769354416847), (1072, 0.7185496352100393), (16770, 0.7113997097327195), (6267, 0.7060630805716388), (11731, 0.7053852598580456), (24026, 0.7019833503201401)]\n"
     ]
    },
    {
     "data": {
      "text/plain": [
       "17882                      Overcooked! 2\n",
       "14553      DERU - The Art of Cooperation\n",
       "2001     Lovers in a Dangerous Spacetime\n",
       "24116                      Survival Ball\n",
       "1937     FORCED: Slightly Better Edition\n",
       "1072                           ibb & obb\n",
       "16770                       Jump Gunners\n",
       "6267              Ultimate Chicken Horse\n",
       "11731                     Iron Crypticle\n",
       "24026                           Polygone\n",
       "Name: name, dtype: object"
      ]
     },
     "execution_count": 26,
     "metadata": {},
     "output_type": "execute_result"
    }
   ],
   "source": [
    "get_recommendations('Overcooked', cosine_sim2)"
   ]
  },
  {
   "cell_type": "markdown",
   "metadata": {},
   "source": [
    "After looking at both results, they both seem like they give good results after comparing them with recommendations from steam. \n",
    "\n",
    "Also, we see that the count vectorizor which took into consideration the description had less similar values, which is expected since the dimensionality is higher. However, we can also see that by adding the description, sequels or prequels of games are almost always at the top (since they will have similar descriptions) and this might not always be desirable. This is because someone who has played a game, for e.g Overcooked, would most likely know about the sequels, so they don't really need to be recommended that game. \n",
    "\n",
    "Therefore, it looks like count vectorization without the short description yields better results"
   ]
  },
  {
   "cell_type": "code",
   "execution_count": 34,
   "metadata": {},
   "outputs": [],
   "source": [
    "cosine_sim_df = pd.DataFrame(cosine_sim)\n",
    "# cosine_sim_df.to_csv(\"Datasets/cosine_sim.csv\", index=True)"
   ]
  },
  {
   "cell_type": "code",
   "execution_count": 35,
   "metadata": {},
   "outputs": [
    {
     "data": {
      "text/plain": [
       "(27075, 27075)"
      ]
     },
     "execution_count": 35,
     "metadata": {},
     "output_type": "execute_result"
    }
   ],
   "source": [
    "cosine_sim_df.shape"
   ]
  },
  {
   "cell_type": "markdown",
   "metadata": {},
   "source": [
    "# Hybrid Method"
   ]
  },
  {
   "cell_type": "code",
   "execution_count": 36,
   "metadata": {},
   "outputs": [],
   "source": [
    "data = pd.read_csv('Datasets/data_clustered.csv')"
   ]
  },
  {
   "cell_type": "code",
   "execution_count": 37,
   "metadata": {},
   "outputs": [
    {
     "data": {
      "text/html": [
       "<div>\n",
       "<style scoped>\n",
       "    .dataframe tbody tr th:only-of-type {\n",
       "        vertical-align: middle;\n",
       "    }\n",
       "\n",
       "    .dataframe tbody tr th {\n",
       "        vertical-align: top;\n",
       "    }\n",
       "\n",
       "    .dataframe thead th {\n",
       "        text-align: right;\n",
       "    }\n",
       "</style>\n",
       "<table border=\"1\" class=\"dataframe\">\n",
       "  <thead>\n",
       "    <tr style=\"text-align: right;\">\n",
       "      <th></th>\n",
       "      <th>appid</th>\n",
       "      <th>name</th>\n",
       "      <th>average_playtime</th>\n",
       "      <th>owners</th>\n",
       "      <th>rating</th>\n",
       "      <th>Action</th>\n",
       "      <th>Adventure</th>\n",
       "      <th>Animation &amp; Modeling</th>\n",
       "      <th>Casual</th>\n",
       "      <th>Design &amp; Illustration</th>\n",
       "      <th>...</th>\n",
       "      <th>app_name</th>\n",
       "      <th>count</th>\n",
       "      <th>mean</th>\n",
       "      <th>positive_rate</th>\n",
       "      <th>weighted_score</th>\n",
       "      <th>kmeans_cluster</th>\n",
       "      <th>genres_cluster</th>\n",
       "      <th>kmeans_cluster_unweighted</th>\n",
       "      <th>genres_cluster_unweighted</th>\n",
       "      <th>hac</th>\n",
       "    </tr>\n",
       "  </thead>\n",
       "  <tbody>\n",
       "    <tr>\n",
       "      <th>0</th>\n",
       "      <td>10</td>\n",
       "      <td>Counter-Strike</td>\n",
       "      <td>17612</td>\n",
       "      <td>10000000-20000000</td>\n",
       "      <td>97.388815</td>\n",
       "      <td>1</td>\n",
       "      <td>0</td>\n",
       "      <td>0</td>\n",
       "      <td>0</td>\n",
       "      <td>0</td>\n",
       "      <td>...</td>\n",
       "      <td>Counter-Strike</td>\n",
       "      <td>12353.0</td>\n",
       "      <td>0.937181</td>\n",
       "      <td>0.968591</td>\n",
       "      <td>0.941109</td>\n",
       "      <td>3</td>\n",
       "      <td>13</td>\n",
       "      <td>3</td>\n",
       "      <td>13</td>\n",
       "      <td>10</td>\n",
       "    </tr>\n",
       "    <tr>\n",
       "      <th>1</th>\n",
       "      <td>20</td>\n",
       "      <td>Team Fortress Classic</td>\n",
       "      <td>277</td>\n",
       "      <td>5000000-10000000</td>\n",
       "      <td>83.978740</td>\n",
       "      <td>1</td>\n",
       "      <td>0</td>\n",
       "      <td>0</td>\n",
       "      <td>0</td>\n",
       "      <td>0</td>\n",
       "      <td>...</td>\n",
       "      <td>Team Fortress Classic</td>\n",
       "      <td>1542.0</td>\n",
       "      <td>0.678340</td>\n",
       "      <td>0.839170</td>\n",
       "      <td>0.801963</td>\n",
       "      <td>0</td>\n",
       "      <td>13</td>\n",
       "      <td>0</td>\n",
       "      <td>13</td>\n",
       "      <td>8</td>\n",
       "    </tr>\n",
       "    <tr>\n",
       "      <th>2</th>\n",
       "      <td>30</td>\n",
       "      <td>Day of Defeat</td>\n",
       "      <td>187</td>\n",
       "      <td>5000000-10000000</td>\n",
       "      <td>89.564761</td>\n",
       "      <td>1</td>\n",
       "      <td>0</td>\n",
       "      <td>0</td>\n",
       "      <td>0</td>\n",
       "      <td>0</td>\n",
       "      <td>...</td>\n",
       "      <td>Day of Defeat</td>\n",
       "      <td>1030.0</td>\n",
       "      <td>0.819417</td>\n",
       "      <td>0.909709</td>\n",
       "      <td>0.858964</td>\n",
       "      <td>0</td>\n",
       "      <td>13</td>\n",
       "      <td>0</td>\n",
       "      <td>13</td>\n",
       "      <td>8</td>\n",
       "    </tr>\n",
       "    <tr>\n",
       "      <th>3</th>\n",
       "      <td>40</td>\n",
       "      <td>Deathmatch Classic</td>\n",
       "      <td>258</td>\n",
       "      <td>5000000-10000000</td>\n",
       "      <td>82.662338</td>\n",
       "      <td>1</td>\n",
       "      <td>0</td>\n",
       "      <td>0</td>\n",
       "      <td>0</td>\n",
       "      <td>0</td>\n",
       "      <td>...</td>\n",
       "      <td>Deathmatch Classic</td>\n",
       "      <td>457.0</td>\n",
       "      <td>0.702407</td>\n",
       "      <td>0.851204</td>\n",
       "      <td>0.795670</td>\n",
       "      <td>0</td>\n",
       "      <td>13</td>\n",
       "      <td>0</td>\n",
       "      <td>13</td>\n",
       "      <td>8</td>\n",
       "    </tr>\n",
       "    <tr>\n",
       "      <th>4</th>\n",
       "      <td>50</td>\n",
       "      <td>Half-Life: Opposing Force</td>\n",
       "      <td>624</td>\n",
       "      <td>5000000-10000000</td>\n",
       "      <td>94.799567</td>\n",
       "      <td>1</td>\n",
       "      <td>0</td>\n",
       "      <td>0</td>\n",
       "      <td>0</td>\n",
       "      <td>0</td>\n",
       "      <td>...</td>\n",
       "      <td>Half-Life: Opposing Force</td>\n",
       "      <td>1743.0</td>\n",
       "      <td>0.925416</td>\n",
       "      <td>0.962708</td>\n",
       "      <td>0.913786</td>\n",
       "      <td>0</td>\n",
       "      <td>13</td>\n",
       "      <td>0</td>\n",
       "      <td>13</td>\n",
       "      <td>7</td>\n",
       "    </tr>\n",
       "  </tbody>\n",
       "</table>\n",
       "<p>5 rows × 41 columns</p>\n",
       "</div>"
      ],
      "text/plain": [
       "   appid                       name  average_playtime             owners  \\\n",
       "0     10             Counter-Strike             17612  10000000-20000000   \n",
       "1     20      Team Fortress Classic               277   5000000-10000000   \n",
       "2     30              Day of Defeat               187   5000000-10000000   \n",
       "3     40         Deathmatch Classic               258   5000000-10000000   \n",
       "4     50  Half-Life: Opposing Force               624   5000000-10000000   \n",
       "\n",
       "      rating  Action  Adventure  Animation & Modeling  Casual  \\\n",
       "0  97.388815       1          0                     0       0   \n",
       "1  83.978740       1          0                     0       0   \n",
       "2  89.564761       1          0                     0       0   \n",
       "3  82.662338       1          0                     0       0   \n",
       "4  94.799567       1          0                     0       0   \n",
       "\n",
       "   Design & Illustration  ...                   app_name    count      mean  \\\n",
       "0                      0  ...             Counter-Strike  12353.0  0.937181   \n",
       "1                      0  ...      Team Fortress Classic   1542.0  0.678340   \n",
       "2                      0  ...              Day of Defeat   1030.0  0.819417   \n",
       "3                      0  ...         Deathmatch Classic    457.0  0.702407   \n",
       "4                      0  ...  Half-Life: Opposing Force   1743.0  0.925416   \n",
       "\n",
       "   positive_rate  weighted_score  kmeans_cluster  genres_cluster  \\\n",
       "0       0.968591        0.941109               3              13   \n",
       "1       0.839170        0.801963               0              13   \n",
       "2       0.909709        0.858964               0              13   \n",
       "3       0.851204        0.795670               0              13   \n",
       "4       0.962708        0.913786               0              13   \n",
       "\n",
       "   kmeans_cluster_unweighted  genres_cluster_unweighted  hac  \n",
       "0                          3                         13   10  \n",
       "1                          0                         13    8  \n",
       "2                          0                         13    8  \n",
       "3                          0                         13    8  \n",
       "4                          0                         13    7  \n",
       "\n",
       "[5 rows x 41 columns]"
      ]
     },
     "execution_count": 37,
     "metadata": {},
     "output_type": "execute_result"
    }
   ],
   "source": [
    "data.head()"
   ]
  },
  {
   "cell_type": "code",
   "execution_count": 40,
   "metadata": {},
   "outputs": [
    {
     "data": {
      "text/html": [
       "<div>\n",
       "<style scoped>\n",
       "    .dataframe tbody tr th:only-of-type {\n",
       "        vertical-align: middle;\n",
       "    }\n",
       "\n",
       "    .dataframe tbody tr th {\n",
       "        vertical-align: top;\n",
       "    }\n",
       "\n",
       "    .dataframe thead th {\n",
       "        text-align: right;\n",
       "    }\n",
       "</style>\n",
       "<table border=\"1\" class=\"dataframe\">\n",
       "  <thead>\n",
       "    <tr style=\"text-align: right;\">\n",
       "      <th></th>\n",
       "      <th>appid</th>\n",
       "      <th>kmeans_cluster</th>\n",
       "      <th>genres_cluster</th>\n",
       "      <th>kmeans_cluster_unweighted</th>\n",
       "      <th>genres_cluster_unweighted</th>\n",
       "      <th>hac</th>\n",
       "      <th>weighted_score</th>\n",
       "    </tr>\n",
       "  </thead>\n",
       "  <tbody>\n",
       "    <tr>\n",
       "      <th>13352</th>\n",
       "      <td>595470</td>\n",
       "      <td>0</td>\n",
       "      <td>13</td>\n",
       "      <td>0</td>\n",
       "      <td>13</td>\n",
       "      <td>12</td>\n",
       "      <td>0.00000</td>\n",
       "    </tr>\n",
       "    <tr>\n",
       "      <th>25208</th>\n",
       "      <td>978870</td>\n",
       "      <td>0</td>\n",
       "      <td>7</td>\n",
       "      <td>0</td>\n",
       "      <td>8</td>\n",
       "      <td>12</td>\n",
       "      <td>0.00000</td>\n",
       "    </tr>\n",
       "    <tr>\n",
       "      <th>10479</th>\n",
       "      <td>514570</td>\n",
       "      <td>0</td>\n",
       "      <td>11</td>\n",
       "      <td>0</td>\n",
       "      <td>11</td>\n",
       "      <td>12</td>\n",
       "      <td>0.00000</td>\n",
       "    </tr>\n",
       "    <tr>\n",
       "      <th>3093</th>\n",
       "      <td>296300</td>\n",
       "      <td>0</td>\n",
       "      <td>11</td>\n",
       "      <td>0</td>\n",
       "      <td>11</td>\n",
       "      <td>7</td>\n",
       "      <td>0.74125</td>\n",
       "    </tr>\n",
       "  </tbody>\n",
       "</table>\n",
       "</div>"
      ],
      "text/plain": [
       "        appid  kmeans_cluster  genres_cluster  kmeans_cluster_unweighted  \\\n",
       "13352  595470               0              13                          0   \n",
       "25208  978870               0               7                          0   \n",
       "10479  514570               0              11                          0   \n",
       "3093   296300               0              11                          0   \n",
       "\n",
       "       genres_cluster_unweighted  hac  weighted_score  \n",
       "13352                         13   12         0.00000  \n",
       "25208                          8   12         0.00000  \n",
       "10479                         11   12         0.00000  \n",
       "3093                          11    7         0.74125  "
      ]
     },
     "execution_count": 40,
     "metadata": {},
     "output_type": "execute_result"
    }
   ],
   "source": [
    "cols = ['appid','kmeans_cluster', 'genres_cluster', 'kmeans_cluster_unweighted', 'genres_cluster_unweighted', 'hac', 'weighted_score']\n",
    "cluster_data = data[cols]\n",
    "cluster_data.sample(4)"
   ]
  },
  {
   "cell_type": "code",
   "execution_count": 41,
   "metadata": {},
   "outputs": [
    {
     "data": {
      "text/html": [
       "<div>\n",
       "<style scoped>\n",
       "    .dataframe tbody tr th:only-of-type {\n",
       "        vertical-align: middle;\n",
       "    }\n",
       "\n",
       "    .dataframe tbody tr th {\n",
       "        vertical-align: top;\n",
       "    }\n",
       "\n",
       "    .dataframe thead th {\n",
       "        text-align: right;\n",
       "    }\n",
       "</style>\n",
       "<table border=\"1\" class=\"dataframe\">\n",
       "  <thead>\n",
       "    <tr style=\"text-align: right;\">\n",
       "      <th></th>\n",
       "      <th>appid</th>\n",
       "      <th>name</th>\n",
       "      <th>release_date</th>\n",
       "      <th>english</th>\n",
       "      <th>developer</th>\n",
       "      <th>publisher</th>\n",
       "      <th>platforms</th>\n",
       "      <th>required_age</th>\n",
       "      <th>categories</th>\n",
       "      <th>genres</th>\n",
       "      <th>...</th>\n",
       "      <th>price</th>\n",
       "      <th>short_description</th>\n",
       "      <th>soup</th>\n",
       "      <th>soup2</th>\n",
       "      <th>kmeans_cluster</th>\n",
       "      <th>genres_cluster</th>\n",
       "      <th>kmeans_cluster_unweighted</th>\n",
       "      <th>genres_cluster_unweighted</th>\n",
       "      <th>hac</th>\n",
       "      <th>weighted_score</th>\n",
       "    </tr>\n",
       "  </thead>\n",
       "  <tbody>\n",
       "    <tr>\n",
       "      <th>0</th>\n",
       "      <td>10</td>\n",
       "      <td>Counter-Strike</td>\n",
       "      <td>2000-11-01</td>\n",
       "      <td>1</td>\n",
       "      <td>Valve</td>\n",
       "      <td>Valve</td>\n",
       "      <td>[windows, mac, linux]</td>\n",
       "      <td>0</td>\n",
       "      <td>[Multi-player, Online Multi-Player, Local Mult...</td>\n",
       "      <td>[Action]</td>\n",
       "      <td>...</td>\n",
       "      <td>7.19</td>\n",
       "      <td>Play the world's number 1 online action game. ...</td>\n",
       "      <td>Action FPS Multiplayer Action Multi-player Onl...</td>\n",
       "      <td>Action FPS Multiplayer Action Multi-player Onl...</td>\n",
       "      <td>3.0</td>\n",
       "      <td>13.0</td>\n",
       "      <td>3.0</td>\n",
       "      <td>13.0</td>\n",
       "      <td>10.0</td>\n",
       "      <td>0.941109</td>\n",
       "    </tr>\n",
       "    <tr>\n",
       "      <th>1</th>\n",
       "      <td>20</td>\n",
       "      <td>Team Fortress Classic</td>\n",
       "      <td>1999-04-01</td>\n",
       "      <td>1</td>\n",
       "      <td>Valve</td>\n",
       "      <td>Valve</td>\n",
       "      <td>[windows, mac, linux]</td>\n",
       "      <td>0</td>\n",
       "      <td>[Multi-player, Online Multi-Player, Local Mult...</td>\n",
       "      <td>[Action]</td>\n",
       "      <td>...</td>\n",
       "      <td>3.99</td>\n",
       "      <td>One of the most popular online action games of...</td>\n",
       "      <td>Action FPS Multiplayer Action Multi-player Onl...</td>\n",
       "      <td>Action FPS Multiplayer Action Multi-player Onl...</td>\n",
       "      <td>0.0</td>\n",
       "      <td>13.0</td>\n",
       "      <td>0.0</td>\n",
       "      <td>13.0</td>\n",
       "      <td>8.0</td>\n",
       "      <td>0.801963</td>\n",
       "    </tr>\n",
       "    <tr>\n",
       "      <th>2</th>\n",
       "      <td>30</td>\n",
       "      <td>Day of Defeat</td>\n",
       "      <td>2003-05-01</td>\n",
       "      <td>1</td>\n",
       "      <td>Valve</td>\n",
       "      <td>Valve</td>\n",
       "      <td>[windows, mac, linux]</td>\n",
       "      <td>0</td>\n",
       "      <td>[Multi-player, Valve Anti-Cheat enabled]</td>\n",
       "      <td>[Action]</td>\n",
       "      <td>...</td>\n",
       "      <td>3.99</td>\n",
       "      <td>Enlist in an intense brand of Axis vs. Allied ...</td>\n",
       "      <td>FPS World War II Multiplayer Action Multi-play...</td>\n",
       "      <td>FPS World War II Multiplayer Action Multi-play...</td>\n",
       "      <td>0.0</td>\n",
       "      <td>13.0</td>\n",
       "      <td>0.0</td>\n",
       "      <td>13.0</td>\n",
       "      <td>8.0</td>\n",
       "      <td>0.858964</td>\n",
       "    </tr>\n",
       "    <tr>\n",
       "      <th>3</th>\n",
       "      <td>40</td>\n",
       "      <td>Deathmatch Classic</td>\n",
       "      <td>2001-06-01</td>\n",
       "      <td>1</td>\n",
       "      <td>Valve</td>\n",
       "      <td>Valve</td>\n",
       "      <td>[windows, mac, linux]</td>\n",
       "      <td>0</td>\n",
       "      <td>[Multi-player, Online Multi-Player, Local Mult...</td>\n",
       "      <td>[Action]</td>\n",
       "      <td>...</td>\n",
       "      <td>3.99</td>\n",
       "      <td>Enjoy fast-paced multiplayer gaming with Death...</td>\n",
       "      <td>Action FPS Multiplayer Action Multi-player Onl...</td>\n",
       "      <td>Action FPS Multiplayer Action Multi-player Onl...</td>\n",
       "      <td>0.0</td>\n",
       "      <td>13.0</td>\n",
       "      <td>0.0</td>\n",
       "      <td>13.0</td>\n",
       "      <td>8.0</td>\n",
       "      <td>0.795670</td>\n",
       "    </tr>\n",
       "    <tr>\n",
       "      <th>4</th>\n",
       "      <td>50</td>\n",
       "      <td>Half-Life: Opposing Force</td>\n",
       "      <td>1999-11-01</td>\n",
       "      <td>1</td>\n",
       "      <td>Gearbox Software</td>\n",
       "      <td>Valve</td>\n",
       "      <td>[windows, mac, linux]</td>\n",
       "      <td>0</td>\n",
       "      <td>[Single-player, Multi-player, Valve Anti-Cheat...</td>\n",
       "      <td>[Action]</td>\n",
       "      <td>...</td>\n",
       "      <td>3.99</td>\n",
       "      <td>Return to the Black Mesa Research Facility as ...</td>\n",
       "      <td>FPS Action Sci-fi Action Single-player Multi-p...</td>\n",
       "      <td>FPS Action Sci-fi Action Single-player Multi-p...</td>\n",
       "      <td>0.0</td>\n",
       "      <td>13.0</td>\n",
       "      <td>0.0</td>\n",
       "      <td>13.0</td>\n",
       "      <td>7.0</td>\n",
       "      <td>0.913786</td>\n",
       "    </tr>\n",
       "  </tbody>\n",
       "</table>\n",
       "<p>5 rows × 27 columns</p>\n",
       "</div>"
      ],
      "text/plain": [
       "   appid                       name release_date  english         developer  \\\n",
       "0     10             Counter-Strike   2000-11-01        1             Valve   \n",
       "1     20      Team Fortress Classic   1999-04-01        1             Valve   \n",
       "2     30              Day of Defeat   2003-05-01        1             Valve   \n",
       "3     40         Deathmatch Classic   2001-06-01        1             Valve   \n",
       "4     50  Half-Life: Opposing Force   1999-11-01        1  Gearbox Software   \n",
       "\n",
       "  publisher              platforms  required_age  \\\n",
       "0     Valve  [windows, mac, linux]             0   \n",
       "1     Valve  [windows, mac, linux]             0   \n",
       "2     Valve  [windows, mac, linux]             0   \n",
       "3     Valve  [windows, mac, linux]             0   \n",
       "4     Valve  [windows, mac, linux]             0   \n",
       "\n",
       "                                          categories    genres  ... price  \\\n",
       "0  [Multi-player, Online Multi-Player, Local Mult...  [Action]  ...  7.19   \n",
       "1  [Multi-player, Online Multi-Player, Local Mult...  [Action]  ...  3.99   \n",
       "2           [Multi-player, Valve Anti-Cheat enabled]  [Action]  ...  3.99   \n",
       "3  [Multi-player, Online Multi-Player, Local Mult...  [Action]  ...  3.99   \n",
       "4  [Single-player, Multi-player, Valve Anti-Cheat...  [Action]  ...  3.99   \n",
       "\n",
       "                                   short_description  \\\n",
       "0  Play the world's number 1 online action game. ...   \n",
       "1  One of the most popular online action games of...   \n",
       "2  Enlist in an intense brand of Axis vs. Allied ...   \n",
       "3  Enjoy fast-paced multiplayer gaming with Death...   \n",
       "4  Return to the Black Mesa Research Facility as ...   \n",
       "\n",
       "                                                soup  \\\n",
       "0  Action FPS Multiplayer Action Multi-player Onl...   \n",
       "1  Action FPS Multiplayer Action Multi-player Onl...   \n",
       "2  FPS World War II Multiplayer Action Multi-play...   \n",
       "3  Action FPS Multiplayer Action Multi-player Onl...   \n",
       "4  FPS Action Sci-fi Action Single-player Multi-p...   \n",
       "\n",
       "                                               soup2  kmeans_cluster  \\\n",
       "0  Action FPS Multiplayer Action Multi-player Onl...             3.0   \n",
       "1  Action FPS Multiplayer Action Multi-player Onl...             0.0   \n",
       "2  FPS World War II Multiplayer Action Multi-play...             0.0   \n",
       "3  Action FPS Multiplayer Action Multi-player Onl...             0.0   \n",
       "4  FPS Action Sci-fi Action Single-player Multi-p...             0.0   \n",
       "\n",
       "   genres_cluster kmeans_cluster_unweighted  genres_cluster_unweighted   hac  \\\n",
       "0            13.0                       3.0                       13.0  10.0   \n",
       "1            13.0                       0.0                       13.0   8.0   \n",
       "2            13.0                       0.0                       13.0   8.0   \n",
       "3            13.0                       0.0                       13.0   8.0   \n",
       "4            13.0                       0.0                       13.0   7.0   \n",
       "\n",
       "  weighted_score  \n",
       "0       0.941109  \n",
       "1       0.801963  \n",
       "2       0.858964  \n",
       "3       0.795670  \n",
       "4       0.913786  \n",
       "\n",
       "[5 rows x 27 columns]"
      ]
     },
     "execution_count": 41,
     "metadata": {},
     "output_type": "execute_result"
    }
   ],
   "source": [
    "data = steam_data.merge(cluster_data, left_on=\"appid\", right_on=\"appid\", how=\"left\")\n",
    "data.head()"
   ]
  },
  {
   "cell_type": "code",
   "execution_count": 42,
   "metadata": {},
   "outputs": [
    {
     "data": {
      "text/plain": [
       "appid                          0\n",
       "name                           0\n",
       "release_date                   0\n",
       "english                        0\n",
       "developer                      0\n",
       "publisher                      0\n",
       "platforms                      0\n",
       "required_age                   0\n",
       "categories                     0\n",
       "genres                         0\n",
       "steamspy_tags                  0\n",
       "achievements                   0\n",
       "positive_ratings               0\n",
       "negative_ratings               0\n",
       "average_playtime               0\n",
       "median_playtime                0\n",
       "owners                         0\n",
       "price                          0\n",
       "short_description              0\n",
       "soup                           0\n",
       "soup2                          0\n",
       "kmeans_cluster               511\n",
       "genres_cluster               511\n",
       "kmeans_cluster_unweighted    511\n",
       "genres_cluster_unweighted    511\n",
       "hac                          511\n",
       "weighted_score               511\n",
       "dtype: int64"
      ]
     },
     "execution_count": 42,
     "metadata": {},
     "output_type": "execute_result"
    }
   ],
   "source": [
    "data.isnull().sum()"
   ]
  },
  {
   "cell_type": "code",
   "execution_count": 43,
   "metadata": {},
   "outputs": [
    {
     "data": {
      "text/plain": [
       "appid                        0\n",
       "name                         0\n",
       "release_date                 0\n",
       "english                      0\n",
       "developer                    0\n",
       "publisher                    0\n",
       "platforms                    0\n",
       "required_age                 0\n",
       "categories                   0\n",
       "genres                       0\n",
       "steamspy_tags                0\n",
       "achievements                 0\n",
       "positive_ratings             0\n",
       "negative_ratings             0\n",
       "average_playtime             0\n",
       "median_playtime              0\n",
       "owners                       0\n",
       "price                        0\n",
       "short_description            0\n",
       "soup                         0\n",
       "soup2                        0\n",
       "kmeans_cluster               0\n",
       "genres_cluster               0\n",
       "kmeans_cluster_unweighted    0\n",
       "genres_cluster_unweighted    0\n",
       "hac                          0\n",
       "weighted_score               0\n",
       "dtype: int64"
      ]
     },
     "execution_count": 43,
     "metadata": {},
     "output_type": "execute_result"
    }
   ],
   "source": [
    "data = data.fillna(0)\n",
    "data.isnull().sum()"
   ]
  },
  {
   "cell_type": "code",
   "execution_count": 95,
   "metadata": {},
   "outputs": [],
   "source": [
    "indices = pd.Series(data.index, index=data['name']).drop_duplicates()\n",
    "# Function that takes in game title as input and outputs most similar games\n",
    "def get_recommendations_hybrid(name, cosine_sim):\n",
    "    # Get the index of the game that matches the title\n",
    "    idx = indices[name]\n",
    "\n",
    "   # Get the pairwsie similarity scores of all games with that game\n",
    "    sim_scores = list(enumerate(cosine_sim[idx]))\n",
    "\n",
    "    # Sort the games based on the similarity scores\n",
    "    sim_scores = sorted(sim_scores, key=lambda x: x[1], reverse=True)\n",
    "\n",
    "    # Get the scores of the 100 most similar games\n",
    "    sim_scores = sim_scores[1:101]\n",
    "    # print(sim_scores)\n",
    "\n",
    "    # Get the game indices\n",
    "    game_indices = [i[0] for i in sim_scores]\n",
    "    \n",
    "    # Adding the weighted score bias\n",
    "    games = data.loc[game_indices]\n",
    "    games['weighted_score'] = games['weighted_score'] + 1\n",
    "    # print([i[1] for i in sim_scores])\n",
    "    games['sim_scores'] = np.array([i[1] for i in sim_scores]) + 1\n",
    "    games['hybrid_rating'] = games['weighted_score'].mul(np.power(games['sim_scores'], 2)) \n",
    "    games = games[['appid', 'name', 'weighted_score', 'hybrid_rating', 'sim_scores']]\n",
    "    \n",
    "    # Return the top 10 most similar games\n",
    "    return games[:10].sort_values('hybrid_rating', ascending=False)"
   ]
  },
  {
   "cell_type": "code",
   "execution_count": 96,
   "metadata": {},
   "outputs": [
    {
     "data": {
      "text/html": [
       "<div>\n",
       "<style scoped>\n",
       "    .dataframe tbody tr th:only-of-type {\n",
       "        vertical-align: middle;\n",
       "    }\n",
       "\n",
       "    .dataframe tbody tr th {\n",
       "        vertical-align: top;\n",
       "    }\n",
       "\n",
       "    .dataframe thead th {\n",
       "        text-align: right;\n",
       "    }\n",
       "</style>\n",
       "<table border=\"1\" class=\"dataframe\">\n",
       "  <thead>\n",
       "    <tr style=\"text-align: right;\">\n",
       "      <th></th>\n",
       "      <th>appid</th>\n",
       "      <th>name</th>\n",
       "      <th>weighted_score</th>\n",
       "      <th>hybrid_rating</th>\n",
       "      <th>sim_scores</th>\n",
       "    </tr>\n",
       "  </thead>\n",
       "  <tbody>\n",
       "    <tr>\n",
       "      <th>14553</th>\n",
       "      <td>632250</td>\n",
       "      <td>DERU - The Art of Cooperation</td>\n",
       "      <td>1.0</td>\n",
       "      <td>3.631772</td>\n",
       "      <td>1.905721</td>\n",
       "    </tr>\n",
       "    <tr>\n",
       "      <th>17882</th>\n",
       "      <td>728880</td>\n",
       "      <td>Overcooked! 2</td>\n",
       "      <td>1.0</td>\n",
       "      <td>3.590256</td>\n",
       "      <td>1.894797</td>\n",
       "    </tr>\n",
       "    <tr>\n",
       "      <th>14184</th>\n",
       "      <td>619470</td>\n",
       "      <td>Boss Defiance</td>\n",
       "      <td>1.0</td>\n",
       "      <td>3.562522</td>\n",
       "      <td>1.887464</td>\n",
       "    </tr>\n",
       "    <tr>\n",
       "      <th>1937</th>\n",
       "      <td>249990</td>\n",
       "      <td>FORCED: Slightly Better Edition</td>\n",
       "      <td>1.0</td>\n",
       "      <td>3.502120</td>\n",
       "      <td>1.871395</td>\n",
       "    </tr>\n",
       "    <tr>\n",
       "      <th>14021</th>\n",
       "      <td>614090</td>\n",
       "      <td>Deadbeat Heroes</td>\n",
       "      <td>1.0</td>\n",
       "      <td>3.490581</td>\n",
       "      <td>1.868310</td>\n",
       "    </tr>\n",
       "    <tr>\n",
       "      <th>11731</th>\n",
       "      <td>548680</td>\n",
       "      <td>Iron Crypticle</td>\n",
       "      <td>1.0</td>\n",
       "      <td>3.467437</td>\n",
       "      <td>1.862105</td>\n",
       "    </tr>\n",
       "    <tr>\n",
       "      <th>11894</th>\n",
       "      <td>553020</td>\n",
       "      <td>Theatre of Doom</td>\n",
       "      <td>1.0</td>\n",
       "      <td>3.467437</td>\n",
       "      <td>1.862105</td>\n",
       "    </tr>\n",
       "    <tr>\n",
       "      <th>9094</th>\n",
       "      <td>468670</td>\n",
       "      <td>Speed Brawl</td>\n",
       "      <td>1.0</td>\n",
       "      <td>3.418354</td>\n",
       "      <td>1.848879</td>\n",
       "    </tr>\n",
       "    <tr>\n",
       "      <th>24116</th>\n",
       "      <td>918690</td>\n",
       "      <td>Survival Ball</td>\n",
       "      <td>1.0</td>\n",
       "      <td>3.417993</td>\n",
       "      <td>1.848782</td>\n",
       "    </tr>\n",
       "    <tr>\n",
       "      <th>12628</th>\n",
       "      <td>573600</td>\n",
       "      <td>Think of the Children</td>\n",
       "      <td>1.0</td>\n",
       "      <td>3.401719</td>\n",
       "      <td>1.844375</td>\n",
       "    </tr>\n",
       "  </tbody>\n",
       "</table>\n",
       "</div>"
      ],
      "text/plain": [
       "        appid                             name  weighted_score  hybrid_rating  \\\n",
       "14553  632250    DERU - The Art of Cooperation             1.0       3.631772   \n",
       "17882  728880                    Overcooked! 2             1.0       3.590256   \n",
       "14184  619470                    Boss Defiance             1.0       3.562522   \n",
       "1937   249990  FORCED: Slightly Better Edition             1.0       3.502120   \n",
       "14021  614090                  Deadbeat Heroes             1.0       3.490581   \n",
       "11731  548680                   Iron Crypticle             1.0       3.467437   \n",
       "11894  553020                  Theatre of Doom             1.0       3.467437   \n",
       "9094   468670                      Speed Brawl             1.0       3.418354   \n",
       "24116  918690                    Survival Ball             1.0       3.417993   \n",
       "12628  573600            Think of the Children             1.0       3.401719   \n",
       "\n",
       "       sim_scores  \n",
       "14553    1.905721  \n",
       "17882    1.894797  \n",
       "14184    1.887464  \n",
       "1937     1.871395  \n",
       "14021    1.868310  \n",
       "11731    1.862105  \n",
       "11894    1.862105  \n",
       "9094     1.848879  \n",
       "24116    1.848782  \n",
       "12628    1.844375  "
      ]
     },
     "execution_count": 96,
     "metadata": {},
     "output_type": "execute_result"
    }
   ],
   "source": [
    "get_recommendations_hybrid('Overcooked', cosine_sim)"
   ]
  },
  {
   "cell_type": "code",
   "execution_count": 97,
   "metadata": {},
   "outputs": [
    {
     "data": {
      "text/html": [
       "<div>\n",
       "<style scoped>\n",
       "    .dataframe tbody tr th:only-of-type {\n",
       "        vertical-align: middle;\n",
       "    }\n",
       "\n",
       "    .dataframe tbody tr th {\n",
       "        vertical-align: top;\n",
       "    }\n",
       "\n",
       "    .dataframe thead th {\n",
       "        text-align: right;\n",
       "    }\n",
       "</style>\n",
       "<table border=\"1\" class=\"dataframe\">\n",
       "  <thead>\n",
       "    <tr style=\"text-align: right;\">\n",
       "      <th></th>\n",
       "      <th>appid</th>\n",
       "      <th>name</th>\n",
       "      <th>weighted_score</th>\n",
       "      <th>hybrid_rating</th>\n",
       "      <th>sim_scores</th>\n",
       "    </tr>\n",
       "  </thead>\n",
       "  <tbody>\n",
       "    <tr>\n",
       "      <th>7968</th>\n",
       "      <td>437920</td>\n",
       "      <td>Tricky Towers</td>\n",
       "      <td>1.731891</td>\n",
       "      <td>5.513826</td>\n",
       "      <td>1.784293</td>\n",
       "    </tr>\n",
       "    <tr>\n",
       "      <th>15945</th>\n",
       "      <td>674940</td>\n",
       "      <td>Stick Fight: The Game</td>\n",
       "      <td>1.000000</td>\n",
       "      <td>3.812846</td>\n",
       "      <td>1.952651</td>\n",
       "    </tr>\n",
       "    <tr>\n",
       "      <th>23044</th>\n",
       "      <td>880940</td>\n",
       "      <td>Pummel Party</td>\n",
       "      <td>1.000000</td>\n",
       "      <td>3.581005</td>\n",
       "      <td>1.892354</td>\n",
       "    </tr>\n",
       "    <tr>\n",
       "      <th>13045</th>\n",
       "      <td>585190</td>\n",
       "      <td>A Gummy's Life</td>\n",
       "      <td>1.000000</td>\n",
       "      <td>3.405057</td>\n",
       "      <td>1.845280</td>\n",
       "    </tr>\n",
       "    <tr>\n",
       "      <th>12830</th>\n",
       "      <td>577940</td>\n",
       "      <td>Killer Instinct</td>\n",
       "      <td>1.000000</td>\n",
       "      <td>3.389317</td>\n",
       "      <td>1.841010</td>\n",
       "    </tr>\n",
       "    <tr>\n",
       "      <th>2273</th>\n",
       "      <td>263720</td>\n",
       "      <td>Brawlout</td>\n",
       "      <td>1.000000</td>\n",
       "      <td>3.316172</td>\n",
       "      <td>1.821036</td>\n",
       "    </tr>\n",
       "    <tr>\n",
       "      <th>13987</th>\n",
       "      <td>612930</td>\n",
       "      <td>Fight of Gods</td>\n",
       "      <td>1.000000</td>\n",
       "      <td>3.218654</td>\n",
       "      <td>1.794061</td>\n",
       "    </tr>\n",
       "    <tr>\n",
       "      <th>6360</th>\n",
       "      <td>389730</td>\n",
       "      <td>TEKKEN 7</td>\n",
       "      <td>1.000000</td>\n",
       "      <td>3.206870</td>\n",
       "      <td>1.790774</td>\n",
       "    </tr>\n",
       "    <tr>\n",
       "      <th>11257</th>\n",
       "      <td>535520</td>\n",
       "      <td>Nidhogg 2</td>\n",
       "      <td>1.000000</td>\n",
       "      <td>3.173939</td>\n",
       "      <td>1.781555</td>\n",
       "    </tr>\n",
       "    <tr>\n",
       "      <th>11920</th>\n",
       "      <td>553570</td>\n",
       "      <td>iFactor</td>\n",
       "      <td>1.000000</td>\n",
       "      <td>3.173450</td>\n",
       "      <td>1.781418</td>\n",
       "    </tr>\n",
       "  </tbody>\n",
       "</table>\n",
       "</div>"
      ],
      "text/plain": [
       "        appid                   name  weighted_score  hybrid_rating  \\\n",
       "7968   437920          Tricky Towers        1.731891       5.513826   \n",
       "15945  674940  Stick Fight: The Game        1.000000       3.812846   \n",
       "23044  880940           Pummel Party        1.000000       3.581005   \n",
       "13045  585190         A Gummy's Life        1.000000       3.405057   \n",
       "12830  577940        Killer Instinct        1.000000       3.389317   \n",
       "2273   263720               Brawlout        1.000000       3.316172   \n",
       "13987  612930          Fight of Gods        1.000000       3.218654   \n",
       "6360   389730               TEKKEN 7        1.000000       3.206870   \n",
       "11257  535520              Nidhogg 2        1.000000       3.173939   \n",
       "11920  553570                iFactor        1.000000       3.173450   \n",
       "\n",
       "       sim_scores  \n",
       "7968     1.784293  \n",
       "15945    1.952651  \n",
       "23044    1.892354  \n",
       "13045    1.845280  \n",
       "12830    1.841010  \n",
       "2273     1.821036  \n",
       "13987    1.794061  \n",
       "6360     1.790774  \n",
       "11257    1.781555  \n",
       "11920    1.781418  "
      ]
     },
     "execution_count": 97,
     "metadata": {},
     "output_type": "execute_result"
    }
   ],
   "source": [
    "get_recommendations_hybrid('Gang Beasts', cosine_sim)"
   ]
  },
  {
   "cell_type": "code",
   "execution_count": 98,
   "metadata": {},
   "outputs": [
    {
     "data": {
      "text/html": [
       "<div>\n",
       "<style scoped>\n",
       "    .dataframe tbody tr th:only-of-type {\n",
       "        vertical-align: middle;\n",
       "    }\n",
       "\n",
       "    .dataframe tbody tr th {\n",
       "        vertical-align: top;\n",
       "    }\n",
       "\n",
       "    .dataframe thead th {\n",
       "        text-align: right;\n",
       "    }\n",
       "</style>\n",
       "<table border=\"1\" class=\"dataframe\">\n",
       "  <thead>\n",
       "    <tr style=\"text-align: right;\">\n",
       "      <th></th>\n",
       "      <th>appid</th>\n",
       "      <th>name</th>\n",
       "      <th>weighted_score</th>\n",
       "      <th>hybrid_rating</th>\n",
       "      <th>sim_scores</th>\n",
       "    </tr>\n",
       "  </thead>\n",
       "  <tbody>\n",
       "    <tr>\n",
       "      <th>1722</th>\n",
       "      <td>236110</td>\n",
       "      <td>Dungeon Defenders II</td>\n",
       "      <td>1.724005</td>\n",
       "      <td>5.776038</td>\n",
       "      <td>1.830399</td>\n",
       "    </tr>\n",
       "    <tr>\n",
       "      <th>4400</th>\n",
       "      <td>338810</td>\n",
       "      <td>Demise of Nations</td>\n",
       "      <td>1.704356</td>\n",
       "      <td>5.752936</td>\n",
       "      <td>1.837234</td>\n",
       "    </tr>\n",
       "    <tr>\n",
       "      <th>4298</th>\n",
       "      <td>336040</td>\n",
       "      <td>Combat Monsters</td>\n",
       "      <td>1.708333</td>\n",
       "      <td>5.678557</td>\n",
       "      <td>1.823193</td>\n",
       "    </tr>\n",
       "    <tr>\n",
       "      <th>10377</th>\n",
       "      <td>511800</td>\n",
       "      <td>ONRAID</td>\n",
       "      <td>1.708443</td>\n",
       "      <td>5.672777</td>\n",
       "      <td>1.822206</td>\n",
       "    </tr>\n",
       "    <tr>\n",
       "      <th>1576</th>\n",
       "      <td>225840</td>\n",
       "      <td>Sven Co-op</td>\n",
       "      <td>1.000000</td>\n",
       "      <td>3.484563</td>\n",
       "      <td>1.866698</td>\n",
       "    </tr>\n",
       "    <tr>\n",
       "      <th>11104</th>\n",
       "      <td>530700</td>\n",
       "      <td>Argo</td>\n",
       "      <td>1.000000</td>\n",
       "      <td>3.409152</td>\n",
       "      <td>1.846389</td>\n",
       "    </tr>\n",
       "    <tr>\n",
       "      <th>6661</th>\n",
       "      <td>397900</td>\n",
       "      <td>Business Tour - Board Game with Online Multipl...</td>\n",
       "      <td>1.000000</td>\n",
       "      <td>3.398584</td>\n",
       "      <td>1.843525</td>\n",
       "    </tr>\n",
       "    <tr>\n",
       "      <th>13171</th>\n",
       "      <td>587860</td>\n",
       "      <td>Tales of Escape</td>\n",
       "      <td>1.000000</td>\n",
       "      <td>3.350360</td>\n",
       "      <td>1.830399</td>\n",
       "    </tr>\n",
       "    <tr>\n",
       "      <th>24173</th>\n",
       "      <td>921590</td>\n",
       "      <td>DISSIDIA FINAL FANTASY NT Free Edition</td>\n",
       "      <td>1.000000</td>\n",
       "      <td>3.348876</td>\n",
       "      <td>1.829993</td>\n",
       "    </tr>\n",
       "    <tr>\n",
       "      <th>2273</th>\n",
       "      <td>263720</td>\n",
       "      <td>Brawlout</td>\n",
       "      <td>1.000000</td>\n",
       "      <td>3.336445</td>\n",
       "      <td>1.826594</td>\n",
       "    </tr>\n",
       "  </tbody>\n",
       "</table>\n",
       "</div>"
      ],
      "text/plain": [
       "        appid                                               name  \\\n",
       "1722   236110                               Dungeon Defenders II   \n",
       "4400   338810                                  Demise of Nations   \n",
       "4298   336040                                    Combat Monsters   \n",
       "10377  511800                                             ONRAID   \n",
       "1576   225840                                         Sven Co-op   \n",
       "11104  530700                                               Argo   \n",
       "6661   397900  Business Tour - Board Game with Online Multipl...   \n",
       "13171  587860                                    Tales of Escape   \n",
       "24173  921590             DISSIDIA FINAL FANTASY NT Free Edition   \n",
       "2273   263720                                           Brawlout   \n",
       "\n",
       "       weighted_score  hybrid_rating  sim_scores  \n",
       "1722         1.724005       5.776038    1.830399  \n",
       "4400         1.704356       5.752936    1.837234  \n",
       "4298         1.708333       5.678557    1.823193  \n",
       "10377        1.708443       5.672777    1.822206  \n",
       "1576         1.000000       3.484563    1.866698  \n",
       "11104        1.000000       3.409152    1.846389  \n",
       "6661         1.000000       3.398584    1.843525  \n",
       "13171        1.000000       3.350360    1.830399  \n",
       "24173        1.000000       3.348876    1.829993  \n",
       "2273         1.000000       3.336445    1.826594  "
      ]
     },
     "execution_count": 98,
     "metadata": {},
     "output_type": "execute_result"
    }
   ],
   "source": [
    "get_recommendations_hybrid('Brawlhalla', cosine_sim)"
   ]
  },
  {
   "cell_type": "code",
   "execution_count": 99,
   "metadata": {},
   "outputs": [
    {
     "data": {
      "text/html": [
       "<div>\n",
       "<style scoped>\n",
       "    .dataframe tbody tr th:only-of-type {\n",
       "        vertical-align: middle;\n",
       "    }\n",
       "\n",
       "    .dataframe tbody tr th {\n",
       "        vertical-align: top;\n",
       "    }\n",
       "\n",
       "    .dataframe thead th {\n",
       "        text-align: right;\n",
       "    }\n",
       "</style>\n",
       "<table border=\"1\" class=\"dataframe\">\n",
       "  <thead>\n",
       "    <tr style=\"text-align: right;\">\n",
       "      <th></th>\n",
       "      <th>appid</th>\n",
       "      <th>name</th>\n",
       "      <th>weighted_score</th>\n",
       "      <th>hybrid_rating</th>\n",
       "      <th>sim_scores</th>\n",
       "    </tr>\n",
       "  </thead>\n",
       "  <tbody>\n",
       "    <tr>\n",
       "      <th>1</th>\n",
       "      <td>20</td>\n",
       "      <td>Team Fortress Classic</td>\n",
       "      <td>1.801963</td>\n",
       "      <td>7.207852</td>\n",
       "      <td>2.000000</td>\n",
       "    </tr>\n",
       "    <tr>\n",
       "      <th>3</th>\n",
       "      <td>40</td>\n",
       "      <td>Deathmatch Classic</td>\n",
       "      <td>1.795670</td>\n",
       "      <td>7.182678</td>\n",
       "      <td>2.000000</td>\n",
       "    </tr>\n",
       "    <tr>\n",
       "      <th>5</th>\n",
       "      <td>60</td>\n",
       "      <td>Ricochet</td>\n",
       "      <td>1.800802</td>\n",
       "      <td>6.984846</td>\n",
       "      <td>1.969452</td>\n",
       "    </tr>\n",
       "    <tr>\n",
       "      <th>7</th>\n",
       "      <td>80</td>\n",
       "      <td>Counter-Strike: Condition Zero</td>\n",
       "      <td>1.855981</td>\n",
       "      <td>6.711872</td>\n",
       "      <td>1.901670</td>\n",
       "    </tr>\n",
       "    <tr>\n",
       "      <th>6</th>\n",
       "      <td>70</td>\n",
       "      <td>Half-Life</td>\n",
       "      <td>1.935006</td>\n",
       "      <td>6.523032</td>\n",
       "      <td>1.836046</td>\n",
       "    </tr>\n",
       "    <tr>\n",
       "      <th>520</th>\n",
       "      <td>24960</td>\n",
       "      <td>Battlefield: Bad Company™ 2</td>\n",
       "      <td>1.856279</td>\n",
       "      <td>6.330310</td>\n",
       "      <td>1.846676</td>\n",
       "    </tr>\n",
       "    <tr>\n",
       "      <th>13</th>\n",
       "      <td>320</td>\n",
       "      <td>Half-Life 2: Deathmatch</td>\n",
       "      <td>1.851906</td>\n",
       "      <td>6.181269</td>\n",
       "      <td>1.826961</td>\n",
       "    </tr>\n",
       "    <tr>\n",
       "      <th>15</th>\n",
       "      <td>360</td>\n",
       "      <td>Half-Life Deathmatch: Source</td>\n",
       "      <td>1.698047</td>\n",
       "      <td>5.996734</td>\n",
       "      <td>1.879241</td>\n",
       "    </tr>\n",
       "    <tr>\n",
       "      <th>203</th>\n",
       "      <td>7940</td>\n",
       "      <td>Call of Duty® 4: Modern Warfare®</td>\n",
       "      <td>1.000000</td>\n",
       "      <td>3.410214</td>\n",
       "      <td>1.846676</td>\n",
       "    </tr>\n",
       "    <tr>\n",
       "      <th>616</th>\n",
       "      <td>32770</td>\n",
       "      <td>Joint Operations: Combined Arms Gold</td>\n",
       "      <td>1.000000</td>\n",
       "      <td>3.344691</td>\n",
       "      <td>1.828850</td>\n",
       "    </tr>\n",
       "  </tbody>\n",
       "</table>\n",
       "</div>"
      ],
      "text/plain": [
       "     appid                                  name  weighted_score  \\\n",
       "1       20                 Team Fortress Classic        1.801963   \n",
       "3       40                    Deathmatch Classic        1.795670   \n",
       "5       60                              Ricochet        1.800802   \n",
       "7       80        Counter-Strike: Condition Zero        1.855981   \n",
       "6       70                             Half-Life        1.935006   \n",
       "520  24960           Battlefield: Bad Company™ 2        1.856279   \n",
       "13     320               Half-Life 2: Deathmatch        1.851906   \n",
       "15     360          Half-Life Deathmatch: Source        1.698047   \n",
       "203   7940      Call of Duty® 4: Modern Warfare®        1.000000   \n",
       "616  32770  Joint Operations: Combined Arms Gold        1.000000   \n",
       "\n",
       "     hybrid_rating  sim_scores  \n",
       "1         7.207852    2.000000  \n",
       "3         7.182678    2.000000  \n",
       "5         6.984846    1.969452  \n",
       "7         6.711872    1.901670  \n",
       "6         6.523032    1.836046  \n",
       "520       6.330310    1.846676  \n",
       "13        6.181269    1.826961  \n",
       "15        5.996734    1.879241  \n",
       "203       3.410214    1.846676  \n",
       "616       3.344691    1.828850  "
      ]
     },
     "execution_count": 99,
     "metadata": {},
     "output_type": "execute_result"
    }
   ],
   "source": [
    "get_recommendations_hybrid('Counter-Strike', cosine_sim)"
   ]
  },
  {
   "cell_type": "code",
   "execution_count": 100,
   "metadata": {},
   "outputs": [
    {
     "name": "stdout",
     "output_type": "stream",
     "text": [
      "[(1, 1.0), (3, 1.0), (5, 0.9694521124707417), (7, 0.9016696346674323), (15, 0.8792409721848787), (203, 0.8466764917335872), (520, 0.8466764917335872), (6, 0.8360460766979309), (616, 0.8288497269823398), (13, 0.82696125397278)]\n"
     ]
    },
    {
     "data": {
      "text/plain": [
       "1                     Team Fortress Classic\n",
       "3                        Deathmatch Classic\n",
       "5                                  Ricochet\n",
       "7            Counter-Strike: Condition Zero\n",
       "15             Half-Life Deathmatch: Source\n",
       "203        Call of Duty® 4: Modern Warfare®\n",
       "520             Battlefield: Bad Company™ 2\n",
       "6                                 Half-Life\n",
       "616    Joint Operations: Combined Arms Gold\n",
       "13                  Half-Life 2: Deathmatch\n",
       "Name: name, dtype: object"
      ]
     },
     "execution_count": 100,
     "metadata": {},
     "output_type": "execute_result"
    }
   ],
   "source": [
    "get_recommendations('Counter-Strike', cosine_sim)"
   ]
  }
 ],
 "metadata": {
  "interpreter": {
   "hash": "38a81db086d2ba7718585c8c5987e205853e5f5d32da9e20516598ae4cd88c25"
  },
  "kernelspec": {
   "display_name": "Python 3.8.8 64-bit ('base': conda)",
   "language": "python",
   "name": "python3"
  },
  "language_info": {
   "codemirror_mode": {
    "name": "ipython",
    "version": 3
   },
   "file_extension": ".py",
   "mimetype": "text/x-python",
   "name": "python",
   "nbconvert_exporter": "python",
   "pygments_lexer": "ipython3",
   "version": "3.8.8"
  },
  "orig_nbformat": 4
 },
 "nbformat": 4,
 "nbformat_minor": 2
}
